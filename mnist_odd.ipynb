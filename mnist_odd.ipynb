{
 "cells": [
  {
   "cell_type": "markdown",
   "metadata": {
    "id": "NqJCOfwvxW8s"
   },
   "source": [
    "# MNIST Handwritten Digit Classifier - Classify the Odd/Even Number\n",
    "\n",
    "Given a dataset of 6,000 images of handwritten digits, train a neural network to identify whether the digit is an odd number or an even number."
   ]
  },
  {
   "cell_type": "code",
   "execution_count": 1,
   "metadata": {
    "id": "hfhY0DVpNchp"
   },
   "outputs": [],
   "source": [
    "from sklearn.model_selection import train_test_split\n",
    "from keras.datasets import mnist\n",
    "from keras.preprocessing.image import load_img, array_to_img\n",
    "from keras.utils.np_utils import to_categorical\n",
    "from keras.models import Sequential\n",
    "from keras.layers import Dense\n",
    "\n",
    "import numpy as np\n",
    "import matplotlib.pyplot as plt\n",
    "%matplotlib inline"
   ]
  },
  {
   "cell_type": "markdown",
   "metadata": {},
   "source": [
    "Load and split data into training, validation and test sets."
   ]
  },
  {
   "cell_type": "code",
   "execution_count": 2,
   "metadata": {
    "id": "ZpQ5nxMZNdxm"
   },
   "outputs": [],
   "source": [
    "(X_train, y_train), (X_test, y_test) = mnist.load_data()"
   ]
  },
  {
   "cell_type": "code",
   "execution_count": 3,
   "metadata": {},
   "outputs": [],
   "source": [
    "X = np.concatenate([X_train, X_test])\n",
    "y = np.concatenate([y_train, y_test])\n",
    "\n",
    "X_train, X_val, y_train, y_val = train_test_split(X, y, test_size=0.3)\n",
    "X_val, X_test, y_val, y_test = train_test_split(X_val, y_val, test_size=1/3)"
   ]
  },
  {
   "cell_type": "code",
   "execution_count": 4,
   "metadata": {
    "colab": {
     "base_uri": "https://localhost:8080/"
    },
    "id": "t60CIIS9Nlsc",
    "outputId": "dd489cd3-84a4-4e70-bd85-311f92d0d31d"
   },
   "outputs": [
    {
     "name": "stdout",
     "output_type": "stream",
     "text": [
      "(49000, 28, 28)\n",
      "(49000,)\n",
      "(14000, 28, 28)\n",
      "(14000,)\n",
      "(7000, 28, 28)\n",
      "(7000,)\n"
     ]
    }
   ],
   "source": [
    "print(X_train.shape)\n",
    "print(y_train.shape)\n",
    "print(X_val.shape)\n",
    "print(y_val.shape)\n",
    "print(X_test.shape)\n",
    "print(y_test.shape)"
   ]
  },
  {
   "cell_type": "markdown",
   "metadata": {},
   "source": [
    "Prepare features and target for training."
   ]
  },
  {
   "cell_type": "code",
   "execution_count": 5,
   "metadata": {
    "colab": {
     "base_uri": "https://localhost:8080/"
    },
    "id": "_PIKPLq9Of7Z",
    "outputId": "addd10d7-6695-4377-e99e-b760eae04abc"
   },
   "outputs": [
    {
     "name": "stdout",
     "output_type": "stream",
     "text": [
      "(49000, 784)\n",
      "(14000, 784)\n",
      "(7000, 784)\n"
     ]
    }
   ],
   "source": [
    "image_height,image_width = 28, 28\n",
    "\n",
    "X_train = X_train.reshape(49000, image_height*image_width)\n",
    "X_val = X_val.reshape(14000, image_height*image_width)\n",
    "X_test = X_test.reshape(7000, image_height*image_width)\n",
    "\n",
    "X_train = X_train.astype('float32')\n",
    "X_val = X_val.astype('float32')\n",
    "X_test = X_test.astype('float32')\n",
    "\n",
    "X_train /= 255.0\n",
    "X_val /= 255.0\n",
    "X_test /= 255.0\n",
    "\n",
    "print(X_train.shape)\n",
    "print(X_val.shape)\n",
    "print(X_test.shape)"
   ]
  },
  {
   "cell_type": "code",
   "execution_count": 6,
   "metadata": {
    "colab": {
     "base_uri": "https://localhost:8080/"
    },
    "id": "3REP10J_Oswg",
    "outputId": "22d1c2d2-fc7c-4354-da4b-54c278edf243"
   },
   "outputs": [
    {
     "name": "stdout",
     "output_type": "stream",
     "text": [
      "(49000,)\n",
      "(14000,)\n",
      "(7000,)\n"
     ]
    }
   ],
   "source": [
    "y_train = y_train % 2\n",
    "y_val = y_val % 2\n",
    "y_test = y_test % 2\n",
    "\n",
    "print(y_train.shape)\n",
    "print(y_val.shape)\n",
    "print(y_test.shape)"
   ]
  },
  {
   "cell_type": "markdown",
   "metadata": {},
   "source": [
    "Train a neural network with 2 hidden layers of 64 nodes each."
   ]
  },
  {
   "cell_type": "code",
   "execution_count": 7,
   "metadata": {
    "id": "AQx8riOTOuEk"
   },
   "outputs": [],
   "source": [
    "model = Sequential()"
   ]
  },
  {
   "cell_type": "code",
   "execution_count": 8,
   "metadata": {
    "id": "pS2KvBYLOwPu"
   },
   "outputs": [],
   "source": [
    "model.add(Dense(16, activation='relu', input_shape=(784,)))\n",
    "model.add(Dense(16, activation='relu'))\n",
    "model.add(Dense(1, activation='sigmoid'))"
   ]
  },
  {
   "cell_type": "code",
   "execution_count": 9,
   "metadata": {
    "id": "6QQwJ_rhOxYp"
   },
   "outputs": [],
   "source": [
    "model.compile(optimizer='adam', loss='binary_crossentropy', metrics=['accuracy'])"
   ]
  },
  {
   "cell_type": "code",
   "execution_count": 10,
   "metadata": {
    "colab": {
     "base_uri": "https://localhost:8080/"
    },
    "id": "6i3ymD5MOy52",
    "outputId": "0f10bd69-1c7a-44bd-f3d7-60fd78ee0326"
   },
   "outputs": [
    {
     "name": "stdout",
     "output_type": "stream",
     "text": [
      "Model: \"sequential\"\n",
      "_________________________________________________________________\n",
      " Layer (type)                Output Shape              Param #   \n",
      "=================================================================\n",
      " dense (Dense)               (None, 16)                12560     \n",
      "                                                                 \n",
      " dense_1 (Dense)             (None, 16)                272       \n",
      "                                                                 \n",
      " dense_2 (Dense)             (None, 1)                 17        \n",
      "                                                                 \n",
      "=================================================================\n",
      "Total params: 12,849\n",
      "Trainable params: 12,849\n",
      "Non-trainable params: 0\n",
      "_________________________________________________________________\n"
     ]
    }
   ],
   "source": [
    "model.summary()"
   ]
  },
  {
   "cell_type": "code",
   "execution_count": 11,
   "metadata": {
    "colab": {
     "base_uri": "https://localhost:8080/"
    },
    "id": "IKCczkL1O0bU",
    "outputId": "3d12813a-3c7b-4cf0-abb8-5f4707834848"
   },
   "outputs": [
    {
     "name": "stdout",
     "output_type": "stream",
     "text": [
      "Epoch 1/20\n",
      "1532/1532 [==============================] - 5s 3ms/step - loss: 0.1813 - accuracy: 0.9302 - val_loss: 0.1088 - val_accuracy: 0.9621\n",
      "Epoch 2/20\n",
      "1532/1532 [==============================] - 3s 2ms/step - loss: 0.0888 - accuracy: 0.9690 - val_loss: 0.0850 - val_accuracy: 0.9707\n",
      "Epoch 3/20\n",
      "1532/1532 [==============================] - 3s 2ms/step - loss: 0.0725 - accuracy: 0.9748 - val_loss: 0.0794 - val_accuracy: 0.9734\n",
      "Epoch 4/20\n",
      "1532/1532 [==============================] - 3s 2ms/step - loss: 0.0617 - accuracy: 0.9778 - val_loss: 0.0819 - val_accuracy: 0.9711\n",
      "Epoch 5/20\n",
      "1532/1532 [==============================] - 3s 2ms/step - loss: 0.0555 - accuracy: 0.9809 - val_loss: 0.0781 - val_accuracy: 0.9733\n",
      "Epoch 6/20\n",
      "1532/1532 [==============================] - 4s 3ms/step - loss: 0.0507 - accuracy: 0.9823 - val_loss: 0.0733 - val_accuracy: 0.9757\n",
      "Epoch 7/20\n",
      "1532/1532 [==============================] - 9s 6ms/step - loss: 0.0462 - accuracy: 0.9840 - val_loss: 0.0730 - val_accuracy: 0.9754\n",
      "Epoch 8/20\n",
      "1532/1532 [==============================] - 3s 2ms/step - loss: 0.0434 - accuracy: 0.9845 - val_loss: 0.0715 - val_accuracy: 0.9772\n",
      "Epoch 9/20\n",
      "1532/1532 [==============================] - 3s 2ms/step - loss: 0.0404 - accuracy: 0.9856 - val_loss: 0.0753 - val_accuracy: 0.9761\n",
      "Epoch 10/20\n",
      "1532/1532 [==============================] - 3s 2ms/step - loss: 0.0374 - accuracy: 0.9868 - val_loss: 0.0726 - val_accuracy: 0.9779\n",
      "Epoch 11/20\n",
      "1532/1532 [==============================] - 3s 2ms/step - loss: 0.0342 - accuracy: 0.9880 - val_loss: 0.0763 - val_accuracy: 0.9772\n",
      "Epoch 12/20\n",
      "1532/1532 [==============================] - 5s 3ms/step - loss: 0.0318 - accuracy: 0.9888 - val_loss: 0.0756 - val_accuracy: 0.9773\n",
      "Epoch 13/20\n",
      "1532/1532 [==============================] - 4s 3ms/step - loss: 0.0306 - accuracy: 0.9893 - val_loss: 0.0756 - val_accuracy: 0.9779\n",
      "Epoch 14/20\n",
      "1532/1532 [==============================] - 4s 3ms/step - loss: 0.0285 - accuracy: 0.9902 - val_loss: 0.0776 - val_accuracy: 0.9779\n",
      "Epoch 15/20\n",
      "1532/1532 [==============================] - 5s 3ms/step - loss: 0.0259 - accuracy: 0.9908 - val_loss: 0.0794 - val_accuracy: 0.9771\n",
      "Epoch 16/20\n",
      "1532/1532 [==============================] - 3s 2ms/step - loss: 0.0244 - accuracy: 0.9915 - val_loss: 0.0906 - val_accuracy: 0.9747\n",
      "Epoch 17/20\n",
      "1532/1532 [==============================] - 3s 2ms/step - loss: 0.0236 - accuracy: 0.9918 - val_loss: 0.0824 - val_accuracy: 0.9774\n",
      "Epoch 18/20\n",
      "1532/1532 [==============================] - 3s 2ms/step - loss: 0.0216 - accuracy: 0.9923 - val_loss: 0.0847 - val_accuracy: 0.9776\n",
      "Epoch 19/20\n",
      "1532/1532 [==============================] - 3s 2ms/step - loss: 0.0216 - accuracy: 0.9926 - val_loss: 0.0873 - val_accuracy: 0.9784\n",
      "Epoch 20/20\n",
      "1532/1532 [==============================] - 3s 2ms/step - loss: 0.0189 - accuracy: 0.9933 - val_loss: 0.0876 - val_accuracy: 0.9766\n"
     ]
    }
   ],
   "source": [
    "history = model.fit(X_train, y_train, epochs=20, validation_data=(X_val, y_val))"
   ]
  },
  {
   "cell_type": "markdown",
   "metadata": {},
   "source": [
    "Evaluate the model performance."
   ]
  },
  {
   "cell_type": "code",
   "execution_count": 12,
   "metadata": {
    "colab": {
     "base_uri": "https://localhost:8080/",
     "height": 285
    },
    "id": "tlhGKXS7O290",
    "outputId": "346308de-2a45-45bc-bffa-1c66784d20c6"
   },
   "outputs": [
    {
     "data": {
      "text/plain": [
       "<matplotlib.legend.Legend at 0x1ad68d9e280>"
      ]
     },
     "execution_count": 12,
     "metadata": {},
     "output_type": "execute_result"
    },
    {
     "data": {
      "image/png": "[encoded data removed]",
      "text/plain": [
       "<Figure size 432x288 with 1 Axes>"
      ]
     },
     "metadata": {
      "needs_background": "light"
     },
     "output_type": "display_data"
    }
   ],
   "source": [
    "plt.plot(history.history['accuracy'])\n",
    "plt.plot(history.history['val_accuracy'])\n",
    "\n",
    "plt.xlabel('Epoch')\n",
    "plt.ylabel('Percent')\n",
    "plt.title('Accuracy')\n",
    "plt.legend(['Training', 'Validation'])"
   ]
  },
  {
   "cell_type": "code",
   "execution_count": 13,
   "metadata": {
    "colab": {
     "base_uri": "https://localhost:8080/",
     "height": 282
    },
    "id": "qWA5ygvbPIwJ",
    "outputId": "5f2a369d-8048-4808-c10a-4ab57a80b526"
   },
   "outputs": [
    {
     "data": {
      "text/plain": [
       "<matplotlib.legend.Legend at 0x1ad690a02e0>"
      ]
     },
     "execution_count": 13,
     "metadata": {},
     "output_type": "execute_result"
    },
    {
     "data": {
      "image/png": "[encoded data removed]",
      "text/plain": [
       "<Figure size 432x288 with 1 Axes>"
      ]
     },
     "metadata": {
      "needs_background": "light"
     },
     "output_type": "display_data"
    }
   ],
   "source": [
    "plt.plot(history.history['loss'])\n",
    "plt.plot(history.history['val_loss'])\n",
    "\n",
    "plt.xlabel('Epoch')\n",
    "plt.ylabel('Loss Value')\n",
    "plt.title('Loss')\n",
    "plt.legend(['Training', 'Validation'])"
   ]
  },
  {
   "cell_type": "code",
   "execution_count": 14,
   "metadata": {
    "colab": {
     "base_uri": "https://localhost:8080/"
    },
    "id": "0U7ss-FUPK0r",
    "outputId": "af8291a2-3a6c-416c-806d-ae82c1678ed1"
   },
   "outputs": [
    {
     "name": "stdout",
     "output_type": "stream",
     "text": [
      "219/219 [==============================] - 0s 1ms/step - loss: 0.0838 - accuracy: 0.9779\n"
     ]
    },
    {
     "data": {
      "text/plain": [
       "[0.08380783349275589, 0.9778571724891663]"
      ]
     },
     "execution_count": 14,
     "metadata": {},
     "output_type": "execute_result"
    }
   ],
   "source": [
    "score = model.evaluate(X_test, y_test)\n",
    "score"
   ]
  },
  {
   "cell_type": "code",
   "execution_count": 41,
   "metadata": {},
   "outputs": [
    {
     "data": {
      "image/png": "[encoded data removed]",
      "text/plain": [
       "<Figure size 504x432 with 2 Axes>"
      ]
     },
     "metadata": {
      "needs_background": "light"
     },
     "output_type": "display_data"
    },
    {
     "name": "stdout",
     "output_type": "stream",
     "text": [
      "Test accuracy: 0.9778571428571429\n"
     ]
    }
   ],
   "source": [
    "from sklearn.metrics import confusion_matrix, accuracy_score\n",
    "\n",
    "y_pred_test = model.predict(X_test)\n",
    "y_pred_test_classes = np.argmax(y_pred_test, axis=1)\n",
    "\n",
    "plt.figure(figsize=(7, 6))\n",
    "plt.title('Confusion Matrix', fontsize=16)\n",
    "plt.imshow(confusion_matrix(y_test, np.round(y_pred_test)))\n",
    "plt.xticks([0, 1], [0, 1], rotation=45, fontsize=12)\n",
    "plt.yticks([0, 1], [0, 1], fontsize=12)\n",
    "plt.colorbar()\n",
    "plt.show()\n",
    "print(\"Test accuracy:\", accuracy_score(y_test, np.round(y_pred_test)))"
   ]
  }
 ],
 "metadata": {
  "colab": {
   "collapsed_sections": [],
   "name": "mnist_odd.ipynb",
   "provenance": []
  },
  "kernelspec": {
   "display_name": "Python 3",
   "language": "python",
   "name": "python3"
  },
  "language_info": {
   "codemirror_mode": {
    "name": "ipython",
    "version": 3
   },
   "file_extension": ".py",
   "mimetype": "text/x-python",
   "name": "python",
   "nbconvert_exporter": "python",
   "pygments_lexer": "ipython3",
   "version": "3.8.8"
  }
 },
 "nbformat": 4,
 "nbformat_minor": 1
}
