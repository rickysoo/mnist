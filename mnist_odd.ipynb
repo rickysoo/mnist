{
 "cells": [
  {
   "cell_type": "markdown",
   "metadata": {
    "id": "NqJCOfwvxW8s"
   },
   "source": [
    "# MNIST Handwritten Digit Classifier - Classify the Odd/Even Number\n",
    "\n",
    "Given a dataset of 6,000 images of handwritten digits, train a neural network to identify whether the digit is an odd number or an even number."
   ]
  },
  {
   "cell_type": "code",
   "execution_count": 15,
   "metadata": {
    "id": "hfhY0DVpNchp"
   },
   "outputs": [],
   "source": [
    "from sklearn.model_selection import train_test_split\n",
    "from keras.datasets import mnist\n",
    "from keras.preprocessing.image import load_img, array_to_img\n",
    "from keras.utils.np_utils import to_categorical\n",
    "from keras.models import Sequential\n",
    "from keras.layers import Dense\n",
    "\n",
    "import numpy as np\n",
    "import matplotlib.pyplot as plt\n",
    "%matplotlib inline"
   ]
  },
  {
   "cell_type": "markdown",
   "metadata": {},
   "source": [
    "Load and split data into training and test sets."
   ]
  },
  {
   "cell_type": "code",
   "execution_count": 16,
   "metadata": {
    "id": "ZpQ5nxMZNdxm"
   },
   "outputs": [],
   "source": [
    "(X_train, y_train), (X_test, y_test) = mnist.load_data()"
   ]
  },
  {
   "cell_type": "code",
   "execution_count": 17,
   "metadata": {},
   "outputs": [],
   "source": [
    "X = np.concatenate([X_train, X_test])\n",
    "y = np.concatenate([y_train, y_test])\n",
    "\n",
    "X_train, X_val, y_train, y_val = train_test_split(X, y, test_size=0.3)\n",
    "X_val, X_test, y_val, y_test = train_test_split(X_val, y_val, test_size=1/3)"
   ]
  },
  {
   "cell_type": "code",
   "execution_count": 18,
   "metadata": {
    "colab": {
     "base_uri": "https://localhost:8080/"
    },
    "id": "t60CIIS9Nlsc",
    "outputId": "dd489cd3-84a4-4e70-bd85-311f92d0d31d"
   },
   "outputs": [
    {
     "name": "stdout",
     "output_type": "stream",
     "text": [
      "(49000, 28, 28)\n",
      "(49000,)\n",
      "(14000, 28, 28)\n",
      "(14000,)\n",
      "(7000, 28, 28)\n",
      "(7000,)\n"
     ]
    }
   ],
   "source": [
    "print(X_train.shape)\n",
    "print(y_train.shape)\n",
    "print(X_val.shape)\n",
    "print(y_val.shape)\n",
    "print(X_test.shape)\n",
    "print(y_test.shape)"
   ]
  },
  {
   "cell_type": "markdown",
   "metadata": {},
   "source": [
    "Prepare features and target for training."
   ]
  },
  {
   "cell_type": "code",
   "execution_count": 19,
   "metadata": {
    "colab": {
     "base_uri": "https://localhost:8080/"
    },
    "id": "_PIKPLq9Of7Z",
    "outputId": "addd10d7-6695-4377-e99e-b760eae04abc"
   },
   "outputs": [
    {
     "name": "stdout",
     "output_type": "stream",
     "text": [
      "(49000, 784)\n",
      "(14000, 784)\n",
      "(7000, 784)\n"
     ]
    }
   ],
   "source": [
    "image_height,image_width = 28, 28\n",
    "\n",
    "X_train = X_train.reshape(49000, image_height*image_width)\n",
    "X_val = X_val.reshape(14000, image_height*image_width)\n",
    "X_test = X_test.reshape(7000, image_height*image_width)\n",
    "\n",
    "X_train = X_train.astype('float32')\n",
    "X_val = X_val.astype('float32')\n",
    "X_test = X_test.astype('float32')\n",
    "\n",
    "X_train /= 255.0\n",
    "X_val /= 255.0\n",
    "X_test /= 255.0\n",
    "\n",
    "print(X_train.shape)\n",
    "print(X_val.shape)\n",
    "print(X_test.shape)"
   ]
  },
  {
   "cell_type": "code",
   "execution_count": 20,
   "metadata": {
    "colab": {
     "base_uri": "https://localhost:8080/"
    },
    "id": "3REP10J_Oswg",
    "outputId": "22d1c2d2-fc7c-4354-da4b-54c278edf243"
   },
   "outputs": [
    {
     "name": "stdout",
     "output_type": "stream",
     "text": [
      "(49000,)\n",
      "(14000,)\n",
      "(7000,)\n"
     ]
    }
   ],
   "source": [
    "y_train = y_train % 2\n",
    "y_val = y_val % 2\n",
    "y_test = y_test % 2\n",
    "\n",
    "print(y_train.shape)\n",
    "print(y_val.shape)\n",
    "print(y_test.shape)"
   ]
  },
  {
   "cell_type": "markdown",
   "metadata": {},
   "source": [
    "Train a neural network with 2 hidden layers of 64 nodes each."
   ]
  },
  {
   "cell_type": "code",
   "execution_count": 21,
   "metadata": {
    "id": "AQx8riOTOuEk"
   },
   "outputs": [],
   "source": [
    "model = Sequential()"
   ]
  },
  {
   "cell_type": "code",
   "execution_count": 22,
   "metadata": {
    "id": "pS2KvBYLOwPu"
   },
   "outputs": [],
   "source": [
    "model.add(Dense(16, activation='relu', input_shape=(784,)))\n",
    "model.add(Dense(16, activation='relu'))\n",
    "model.add(Dense(1, activation='sigmoid'))"
   ]
  },
  {
   "cell_type": "code",
   "execution_count": 23,
   "metadata": {
    "id": "6QQwJ_rhOxYp"
   },
   "outputs": [],
   "source": [
    "model.compile(optimizer='adam', loss='binary_crossentropy', metrics=['accuracy'])"
   ]
  },
  {
   "cell_type": "code",
   "execution_count": 24,
   "metadata": {
    "colab": {
     "base_uri": "https://localhost:8080/"
    },
    "id": "6i3ymD5MOy52",
    "outputId": "0f10bd69-1c7a-44bd-f3d7-60fd78ee0326"
   },
   "outputs": [
    {
     "name": "stdout",
     "output_type": "stream",
     "text": [
      "Model: \"sequential_1\"\n",
      "_________________________________________________________________\n",
      " Layer (type)                Output Shape              Param #   \n",
      "=================================================================\n",
      " dense_3 (Dense)             (None, 16)                12560     \n",
      "                                                                 \n",
      " dense_4 (Dense)             (None, 16)                272       \n",
      "                                                                 \n",
      " dense_5 (Dense)             (None, 1)                 17        \n",
      "                                                                 \n",
      "=================================================================\n",
      "Total params: 12,849\n",
      "Trainable params: 12,849\n",
      "Non-trainable params: 0\n",
      "_________________________________________________________________\n"
     ]
    }
   ],
   "source": [
    "model.summary()"
   ]
  },
  {
   "cell_type": "code",
   "execution_count": 25,
   "metadata": {
    "colab": {
     "base_uri": "https://localhost:8080/"
    },
    "id": "IKCczkL1O0bU",
    "outputId": "3d12813a-3c7b-4cf0-abb8-5f4707834848"
   },
   "outputs": [
    {
     "name": "stdout",
     "output_type": "stream",
     "text": [
      "Epoch 1/20\n",
      "1532/1532 [==============================] - 5s 3ms/step - loss: 0.1706 - accuracy: 0.9357 - val_loss: 0.1053 - val_accuracy: 0.9633\n",
      "Epoch 2/20\n",
      "1532/1532 [==============================] - 3s 2ms/step - loss: 0.0905 - accuracy: 0.9686 - val_loss: 0.0891 - val_accuracy: 0.9706\n",
      "Epoch 3/20\n",
      "1532/1532 [==============================] - 3s 2ms/step - loss: 0.0747 - accuracy: 0.9740 - val_loss: 0.0752 - val_accuracy: 0.9741\n",
      "Epoch 4/20\n",
      "1532/1532 [==============================] - 3s 2ms/step - loss: 0.0640 - accuracy: 0.9781 - val_loss: 0.0785 - val_accuracy: 0.9724\n",
      "Epoch 5/20\n",
      "1532/1532 [==============================] - 4s 2ms/step - loss: 0.0583 - accuracy: 0.9794 - val_loss: 0.0840 - val_accuracy: 0.9708\n",
      "Epoch 6/20\n",
      "1532/1532 [==============================] - 5s 3ms/step - loss: 0.0543 - accuracy: 0.9817 - val_loss: 0.0737 - val_accuracy: 0.9771\n",
      "Epoch 7/20\n",
      "1532/1532 [==============================] - 4s 3ms/step - loss: 0.0518 - accuracy: 0.9818 - val_loss: 0.0682 - val_accuracy: 0.9765\n",
      "Epoch 8/20\n",
      "1532/1532 [==============================] - 4s 2ms/step - loss: 0.0479 - accuracy: 0.9835 - val_loss: 0.0678 - val_accuracy: 0.9776\n",
      "Epoch 9/20\n",
      "1532/1532 [==============================] - 3s 2ms/step - loss: 0.0444 - accuracy: 0.9847 - val_loss: 0.0711 - val_accuracy: 0.9773\n",
      "Epoch 10/20\n",
      "1532/1532 [==============================] - 4s 2ms/step - loss: 0.0413 - accuracy: 0.9855 - val_loss: 0.0704 - val_accuracy: 0.9768\n",
      "Epoch 11/20\n",
      "1532/1532 [==============================] - 3s 2ms/step - loss: 0.0382 - accuracy: 0.9863 - val_loss: 0.0742 - val_accuracy: 0.9760\n",
      "Epoch 12/20\n",
      "1532/1532 [==============================] - 4s 2ms/step - loss: 0.0365 - accuracy: 0.9870 - val_loss: 0.0705 - val_accuracy: 0.9768\n",
      "Epoch 13/20\n",
      "1532/1532 [==============================] - 3s 2ms/step - loss: 0.0345 - accuracy: 0.9880 - val_loss: 0.0760 - val_accuracy: 0.9761\n",
      "Epoch 14/20\n",
      "1532/1532 [==============================] - 5s 3ms/step - loss: 0.0320 - accuracy: 0.9884 - val_loss: 0.0700 - val_accuracy: 0.9770\n",
      "Epoch 15/20\n",
      "1532/1532 [==============================] - 3s 2ms/step - loss: 0.0310 - accuracy: 0.9892 - val_loss: 0.0708 - val_accuracy: 0.9768\n",
      "Epoch 16/20\n",
      "1532/1532 [==============================] - 3s 2ms/step - loss: 0.0291 - accuracy: 0.9898 - val_loss: 0.0802 - val_accuracy: 0.9761\n",
      "Epoch 17/20\n",
      "1532/1532 [==============================] - 3s 2ms/step - loss: 0.0278 - accuracy: 0.9901 - val_loss: 0.0782 - val_accuracy: 0.9769\n",
      "Epoch 18/20\n",
      "1532/1532 [==============================] - 4s 2ms/step - loss: 0.0273 - accuracy: 0.9894 - val_loss: 0.0755 - val_accuracy: 0.9762\n",
      "Epoch 19/20\n",
      "1532/1532 [==============================] - 3s 2ms/step - loss: 0.0247 - accuracy: 0.9909 - val_loss: 0.0813 - val_accuracy: 0.9758\n",
      "Epoch 20/20\n",
      "1532/1532 [==============================] - 3s 2ms/step - loss: 0.0236 - accuracy: 0.9914 - val_loss: 0.0859 - val_accuracy: 0.9761\n"
     ]
    }
   ],
   "source": [
    "history = model.fit(X_train, y_train, epochs=20, validation_data=(X_val, y_val))"
   ]
  },
  {
   "cell_type": "markdown",
   "metadata": {},
   "source": [
    "Evaluate the model performance."
   ]
  },
  {
   "cell_type": "code",
   "execution_count": 26,
   "metadata": {
    "colab": {
     "base_uri": "https://localhost:8080/",
     "height": 285
    },
    "id": "tlhGKXS7O290",
    "outputId": "346308de-2a45-45bc-bffa-1c66784d20c6"
   },
   "outputs": [
    {
     "data": {
      "text/plain": [
       "<matplotlib.legend.Legend at 0x2bb4c27ea60>"
      ]
     },
     "execution_count": 26,
     "metadata": {},
     "output_type": "execute_result"
    },
    {
     "data": {
      "image/png": "[encoded data removed]",
      "text/plain": [
       "<Figure size 432x288 with 1 Axes>"
      ]
     },
     "metadata": {
      "needs_background": "light"
     },
     "output_type": "display_data"
    }
   ],
   "source": [
    "plt.plot(history.history['accuracy'])\n",
    "plt.plot(history.history['val_accuracy'])\n",
    "\n",
    "plt.xlabel('Epoch')\n",
    "plt.ylabel('Percent')\n",
    "plt.title('Accuracy')\n",
    "plt.legend(['Training', 'Validation'])"
   ]
  },
  {
   "cell_type": "code",
   "execution_count": 27,
   "metadata": {
    "colab": {
     "base_uri": "https://localhost:8080/",
     "height": 282
    },
    "id": "qWA5ygvbPIwJ",
    "outputId": "5f2a369d-8048-4808-c10a-4ab57a80b526"
   },
   "outputs": [
    {
     "data": {
      "text/plain": [
       "<matplotlib.legend.Legend at 0x2bb4c284d00>"
      ]
     },
     "execution_count": 27,
     "metadata": {},
     "output_type": "execute_result"
    },
    {
     "data": {
      "image/png": "[encoded data removed]",
      "text/plain": [
       "<Figure size 432x288 with 1 Axes>"
      ]
     },
     "metadata": {
      "needs_background": "light"
     },
     "output_type": "display_data"
    }
   ],
   "source": [
    "plt.plot(history.history['loss'])\n",
    "plt.plot(history.history['val_loss'])\n",
    "\n",
    "plt.xlabel('Epoch')\n",
    "plt.ylabel('Loss Value')\n",
    "plt.title('Loss')\n",
    "plt.legend(['Training', 'Validation'])"
   ]
  },
  {
   "cell_type": "code",
   "execution_count": 28,
   "metadata": {
    "colab": {
     "base_uri": "https://localhost:8080/"
    },
    "id": "0U7ss-FUPK0r",
    "outputId": "af8291a2-3a6c-416c-806d-ae82c1678ed1"
   },
   "outputs": [
    {
     "name": "stdout",
     "output_type": "stream",
     "text": [
      "219/219 [==============================] - 0s 1ms/step - loss: 0.0792 - accuracy: 0.9774\n"
     ]
    },
    {
     "data": {
      "text/plain": [
       "[0.0792153924703598, 0.9774285554885864]"
      ]
     },
     "execution_count": 28,
     "metadata": {},
     "output_type": "execute_result"
    }
   ],
   "source": [
    "score = model.evaluate(X_test, y_test)\n",
    "score"
   ]
  }
 ],
 "metadata": {
  "colab": {
   "collapsed_sections": [],
   "name": "mnist_odd.ipynb",
   "provenance": []
  },
  "kernelspec": {
   "display_name": "Python 3",
   "language": "python",
   "name": "python3"
  },
  "language_info": {
   "codemirror_mode": {
    "name": "ipython",
    "version": 3
   },
   "file_extension": ".py",
   "mimetype": "text/x-python",
   "name": "python",
   "nbconvert_exporter": "python",
   "pygments_lexer": "ipython3",
   "version": "3.8.8"
  }
 },
 "nbformat": 4,
 "nbformat_minor": 1
}
