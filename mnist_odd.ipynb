{
  "nbformat": 4,
  "nbformat_minor": 0,
  "metadata": {
    "colab": {
      "name": "mnist_odd.ipynb",
      "provenance": [],
      "collapsed_sections": []
    },
    "kernelspec": {
      "name": "python3",
      "display_name": "Python 3"
    },
    "language_info": {
      "name": "python"
    }
  },
  "cells": [
    {
      "cell_type": "markdown",
      "source": [
        "# MNIST Handwritten Digit Classifier - Classify the Odd/Even Number\n",
        "\n",
        "Given a dataset of 6,000 images of handwritten digits, train a neural network to identify whether the digit is an odd number or an even number."
      ],
      "metadata": {
        "id": "NqJCOfwvxW8s"
      }
    },
    {
      "cell_type": "code",
      "execution_count": 1,
      "metadata": {
        "id": "hfhY0DVpNchp"
      },
      "outputs": [],
      "source": [
        "from keras.datasets import mnist\n",
        "from keras.preprocessing.image import load_img, array_to_img\n",
        "from keras.utils.np_utils import to_categorical\n",
        "from keras.models import Sequential\n",
        "from keras.layers import Dense\n",
        "\n",
        "import numpy as np\n",
        "import matplotlib.pyplot as plt\n",
        "%matplotlib inline"
      ]
    },
    {
      "cell_type": "code",
      "source": [
        "(X_train, y_train), (X_test, y_test) = mnist.load_data()"
      ],
      "metadata": {
        "id": "ZpQ5nxMZNdxm"
      },
      "execution_count": 2,
      "outputs": []
    },
    {
      "cell_type": "code",
      "source": [
        "print(X_train.shape)\n",
        "print(y_train.shape)\n",
        "print(X_test.shape)\n",
        "print(y_test.shape)"
      ],
      "metadata": {
        "colab": {
          "base_uri": "https://localhost:8080/"
        },
        "id": "t60CIIS9Nlsc",
        "outputId": "dd489cd3-84a4-4e70-bd85-311f92d0d31d"
      },
      "execution_count": 3,
      "outputs": [
        {
          "output_type": "stream",
          "name": "stdout",
          "text": [
            "(60000, 28, 28)\n",
            "(60000,)\n",
            "(10000, 28, 28)\n",
            "(10000,)\n"
          ]
        }
      ]
    },
    {
      "cell_type": "code",
      "source": [
        "image_height,image_width = 28, 28\n",
        "\n",
        "X_train = X_train.reshape(60000, image_height*image_width)\n",
        "X_test = X_test.reshape(10000, image_height*image_width)\n",
        "\n",
        "X_train = X_train.astype('float32')\n",
        "X_test = X_test.astype('float32')\n",
        "\n",
        "X_train /= 255.0\n",
        "X_test /= 255.0\n",
        "\n",
        "print(X_train.shape)\n",
        "print(X_test.shape)"
      ],
      "metadata": {
        "id": "_PIKPLq9Of7Z",
        "colab": {
          "base_uri": "https://localhost:8080/"
        },
        "outputId": "addd10d7-6695-4377-e99e-b760eae04abc"
      },
      "execution_count": 4,
      "outputs": [
        {
          "output_type": "stream",
          "name": "stdout",
          "text": [
            "(60000, 784)\n",
            "(10000, 784)\n"
          ]
        }
      ]
    },
    {
      "cell_type": "code",
      "source": [
        "y_train = y_train % 2\n",
        "y_test = y_test % 2\n",
        "\n",
        "print(y_train.shape)\n",
        "print(y_test.shape)"
      ],
      "metadata": {
        "colab": {
          "base_uri": "https://localhost:8080/"
        },
        "id": "3REP10J_Oswg",
        "outputId": "22d1c2d2-fc7c-4354-da4b-54c278edf243"
      },
      "execution_count": 5,
      "outputs": [
        {
          "output_type": "stream",
          "name": "stdout",
          "text": [
            "(60000,)\n",
            "(10000,)\n"
          ]
        }
      ]
    },
    {
      "cell_type": "code",
      "source": [
        "model = Sequential()"
      ],
      "metadata": {
        "id": "AQx8riOTOuEk"
      },
      "execution_count": 6,
      "outputs": []
    },
    {
      "cell_type": "code",
      "source": [
        "model.add(Dense(512, activation='relu', input_shape=(784,)))\n",
        "model.add(Dense(512, activation='relu'))\n",
        "model.add(Dense(1, activation='sigmoid'))"
      ],
      "metadata": {
        "id": "pS2KvBYLOwPu"
      },
      "execution_count": 7,
      "outputs": []
    },
    {
      "cell_type": "code",
      "source": [
        "model.compile(optimizer='adam', loss='binary_crossentropy', metrics=['accuracy'])"
      ],
      "metadata": {
        "id": "6QQwJ_rhOxYp"
      },
      "execution_count": 8,
      "outputs": []
    },
    {
      "cell_type": "code",
      "source": [
        "model.summary()"
      ],
      "metadata": {
        "colab": {
          "base_uri": "https://localhost:8080/"
        },
        "id": "6i3ymD5MOy52",
        "outputId": "0f10bd69-1c7a-44bd-f3d7-60fd78ee0326"
      },
      "execution_count": 9,
      "outputs": [
        {
          "output_type": "stream",
          "name": "stdout",
          "text": [
            "Model: \"sequential\"\n",
            "_________________________________________________________________\n",
            " Layer (type)                Output Shape              Param #   \n",
            "=================================================================\n",
            " dense (Dense)               (None, 512)               401920    \n",
            "                                                                 \n",
            " dense_1 (Dense)             (None, 512)               262656    \n",
            "                                                                 \n",
            " dense_2 (Dense)             (None, 1)                 513       \n",
            "                                                                 \n",
            "=================================================================\n",
            "Total params: 665,089\n",
            "Trainable params: 665,089\n",
            "Non-trainable params: 0\n",
            "_________________________________________________________________\n"
          ]
        }
      ]
    },
    {
      "cell_type": "code",
      "source": [
        "history = model.fit(X_train, y_train, epochs=20, validation_data=(X_test, y_test))"
      ],
      "metadata": {
        "colab": {
          "base_uri": "https://localhost:8080/"
        },
        "id": "IKCczkL1O0bU",
        "outputId": "3d12813a-3c7b-4cf0-abb8-5f4707834848"
      },
      "execution_count": 10,
      "outputs": [
        {
          "output_type": "stream",
          "name": "stdout",
          "text": [
            "Epoch 1/20\n",
            "1875/1875 [==============================] - 17s 9ms/step - loss: 0.0896 - accuracy: 0.9678 - val_loss: 0.0549 - val_accuracy: 0.9821\n",
            "Epoch 2/20\n",
            "1875/1875 [==============================] - 12s 6ms/step - loss: 0.0450 - accuracy: 0.9848 - val_loss: 0.0416 - val_accuracy: 0.9867\n",
            "Epoch 3/20\n",
            "1875/1875 [==============================] - 12s 6ms/step - loss: 0.0327 - accuracy: 0.9885 - val_loss: 0.0381 - val_accuracy: 0.9879\n",
            "Epoch 4/20\n",
            "1875/1875 [==============================] - 13s 7ms/step - loss: 0.0249 - accuracy: 0.9915 - val_loss: 0.0373 - val_accuracy: 0.9889\n",
            "Epoch 5/20\n",
            "1875/1875 [==============================] - 12s 7ms/step - loss: 0.0191 - accuracy: 0.9932 - val_loss: 0.0580 - val_accuracy: 0.9853\n",
            "Epoch 6/20\n",
            "1875/1875 [==============================] - 12s 6ms/step - loss: 0.0161 - accuracy: 0.9942 - val_loss: 0.0457 - val_accuracy: 0.9875\n",
            "Epoch 7/20\n",
            "1875/1875 [==============================] - 13s 7ms/step - loss: 0.0133 - accuracy: 0.9954 - val_loss: 0.0430 - val_accuracy: 0.9883\n",
            "Epoch 8/20\n",
            "1875/1875 [==============================] - 13s 7ms/step - loss: 0.0109 - accuracy: 0.9965 - val_loss: 0.0488 - val_accuracy: 0.9883\n",
            "Epoch 9/20\n",
            "1875/1875 [==============================] - 12s 7ms/step - loss: 0.0099 - accuracy: 0.9967 - val_loss: 0.0449 - val_accuracy: 0.9899\n",
            "Epoch 10/20\n",
            "1875/1875 [==============================] - 13s 7ms/step - loss: 0.0098 - accuracy: 0.9965 - val_loss: 0.0400 - val_accuracy: 0.9895\n",
            "Epoch 11/20\n",
            "1875/1875 [==============================] - 12s 7ms/step - loss: 0.0080 - accuracy: 0.9972 - val_loss: 0.0554 - val_accuracy: 0.9867\n",
            "Epoch 12/20\n",
            "1875/1875 [==============================] - 13s 7ms/step - loss: 0.0072 - accuracy: 0.9977 - val_loss: 0.0454 - val_accuracy: 0.9899\n",
            "Epoch 13/20\n",
            "1875/1875 [==============================] - 12s 6ms/step - loss: 0.0063 - accuracy: 0.9979 - val_loss: 0.0675 - val_accuracy: 0.9869\n",
            "Epoch 14/20\n",
            "1875/1875 [==============================] - 12s 6ms/step - loss: 0.0069 - accuracy: 0.9978 - val_loss: 0.0508 - val_accuracy: 0.9900\n",
            "Epoch 15/20\n",
            "1875/1875 [==============================] - 12s 6ms/step - loss: 0.0043 - accuracy: 0.9987 - val_loss: 0.0625 - val_accuracy: 0.9894\n",
            "Epoch 16/20\n",
            "1875/1875 [==============================] - 12s 6ms/step - loss: 0.0057 - accuracy: 0.9983 - val_loss: 0.0570 - val_accuracy: 0.9901\n",
            "Epoch 17/20\n",
            "1875/1875 [==============================] - 12s 7ms/step - loss: 0.0052 - accuracy: 0.9982 - val_loss: 0.0596 - val_accuracy: 0.9897\n",
            "Epoch 18/20\n",
            "1875/1875 [==============================] - 13s 7ms/step - loss: 0.0044 - accuracy: 0.9986 - val_loss: 0.0625 - val_accuracy: 0.9895\n",
            "Epoch 19/20\n",
            "1875/1875 [==============================] - 12s 7ms/step - loss: 0.0041 - accuracy: 0.9987 - val_loss: 0.0658 - val_accuracy: 0.9893\n",
            "Epoch 20/20\n",
            "1875/1875 [==============================] - 12s 6ms/step - loss: 0.0048 - accuracy: 0.9985 - val_loss: 0.0746 - val_accuracy: 0.9886\n"
          ]
        }
      ]
    },
    {
      "cell_type": "code",
      "source": [
        "plt.plot(history.history['accuracy'])\n",
        "plt.plot(history.history['val_accuracy'])"
      ],
      "metadata": {
        "colab": {
          "base_uri": "https://localhost:8080/",
          "height": 285
        },
        "id": "tlhGKXS7O290",
        "outputId": "346308de-2a45-45bc-bffa-1c66784d20c6"
      },
      "execution_count": 11,
      "outputs": [
        {
          "output_type": "execute_result",
          "data": {
            "text/plain": [
              "[<matplotlib.lines.Line2D at 0x7fc61d0caa10>]"
            ]
          },
          "metadata": {},
          "execution_count": 11
        },
        {
          "output_type": "display_data",
          "data": {
            "image/png": "[encoded data removed]",
            "text/plain": [
              "<Figure size 432x288 with 1 Axes>"
            ]
          },
          "metadata": {
            "needs_background": "light"
          }
        }
      ]
    },
    {
      "cell_type": "code",
      "source": [
        "plt.plot(history.history['loss'])\n",
        "plt.plot(history.history['val_loss'])"
      ],
      "metadata": {
        "colab": {
          "base_uri": "https://localhost:8080/",
          "height": 282
        },
        "id": "qWA5ygvbPIwJ",
        "outputId": "5f2a369d-8048-4808-c10a-4ab57a80b526"
      },
      "execution_count": 12,
      "outputs": [
        {
          "output_type": "execute_result",
          "data": {
            "text/plain": [
              "[<matplotlib.lines.Line2D at 0x7fc61cbbedd0>]"
            ]
          },
          "metadata": {},
          "execution_count": 12
        },
        {
          "output_type": "display_data",
          "data": {
            "image/png": "[encoded data removed]",
            "text/plain": [
              "<Figure size 432x288 with 1 Axes>"
            ]
          },
          "metadata": {
            "needs_background": "light"
          }
        }
      ]
    },
    {
      "cell_type": "code",
      "source": [
        "score = model.evaluate(X_test, y_test)\n",
        "score"
      ],
      "metadata": {
        "colab": {
          "base_uri": "https://localhost:8080/"
        },
        "id": "0U7ss-FUPK0r",
        "outputId": "af8291a2-3a6c-416c-806d-ae82c1678ed1"
      },
      "execution_count": 13,
      "outputs": [
        {
          "output_type": "stream",
          "name": "stdout",
          "text": [
            "313/313 [==============================] - 1s 3ms/step - loss: 0.0746 - accuracy: 0.9886\n"
          ]
        },
        {
          "output_type": "execute_result",
          "data": {
            "text/plain": [
              "[0.07457059621810913, 0.9886000156402588]"
            ]
          },
          "metadata": {},
          "execution_count": 13
        }
      ]
    }
  ]
}