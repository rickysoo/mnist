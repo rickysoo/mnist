{
 "cells": [
  {
   "cell_type": "markdown",
   "metadata": {
    "id": "tZwJ4a-TyS_f"
   },
   "source": [
    "# MNIST Handwritten Digit Classifier - Classify the Number\n",
    "\n",
    "Given a dataset of 6,000 images of handwritten digits, train a neural network to identify the number."
   ]
  },
  {
   "cell_type": "code",
   "execution_count": 9,
   "metadata": {
    "id": "hfhY0DVpNchp"
   },
   "outputs": [],
   "source": [
    "from sklearn.model_selection import train_test_split\n",
    "from keras.datasets import mnist\n",
    "from keras.preprocessing.image import load_img, array_to_img\n",
    "from keras.utils.np_utils import to_categorical\n",
    "from keras.models import Sequential\n",
    "from keras.layers import Dense\n",
    "\n",
    "import numpy as np\n",
    "import matplotlib.pyplot as plt\n",
    "%matplotlib inline"
   ]
  },
  {
   "cell_type": "markdown",
   "metadata": {},
   "source": [
    "Load and split data into training and test sets."
   ]
  },
  {
   "cell_type": "code",
   "execution_count": 3,
   "metadata": {
    "colab": {
     "base_uri": "https://localhost:8080/"
    },
    "id": "ZpQ5nxMZNdxm",
    "outputId": "6315097e-87f1-40df-ad59-d8b277c1cce3"
   },
   "outputs": [],
   "source": [
    "(X_train, y_train), (X_test, y_test) = mnist.load_data()"
   ]
  },
  {
   "cell_type": "code",
   "execution_count": 11,
   "metadata": {},
   "outputs": [],
   "source": [
    "X = np.concatenate([X_train, X_test])\n",
    "y = np.concatenate([y_train, y_test])\n",
    "\n",
    "X_train, X_val, y_train, y_val = train_test_split(X, y, test_size=0.3)\n",
    "X_val, X_test, y_val, y_test = train_test_split(X_val, y_val, test_size=1/3)"
   ]
  },
  {
   "cell_type": "code",
   "execution_count": 14,
   "metadata": {
    "colab": {
     "base_uri": "https://localhost:8080/"
    },
    "id": "t60CIIS9Nlsc",
    "outputId": "a5d2d1c4-3bcb-4e54-d1c6-95ca4af673fa"
   },
   "outputs": [
    {
     "name": "stdout",
     "output_type": "stream",
     "text": [
      "(49000, 28, 28)\n",
      "(49000,)\n",
      "(14000, 28, 28)\n",
      "(14000,)\n",
      "(7000, 28, 28)\n",
      "(7000,)\n"
     ]
    }
   ],
   "source": [
    "print(X_train.shape)\n",
    "print(y_train.shape)\n",
    "print(X_val.shape)\n",
    "print(y_val.shape)\n",
    "print(X_test.shape)\n",
    "print(y_test.shape)"
   ]
  },
  {
   "cell_type": "markdown",
   "metadata": {},
   "source": [
    "Show one example digit."
   ]
  },
  {
   "cell_type": "code",
   "execution_count": 15,
   "metadata": {
    "colab": {
     "base_uri": "https://localhost:8080/",
     "height": 282
    },
    "id": "qceNb9m8OWXg",
    "outputId": "29cb37be-99cc-4d47-a8da-460c3c70067b"
   },
   "outputs": [
    {
     "data": {
      "text/plain": [
       "<matplotlib.image.AxesImage at 0x23867da1c10>"
      ]
     },
     "execution_count": 15,
     "metadata": {},
     "output_type": "execute_result"
    },
    {
     "data": {
      "image/png": "[encoded data removed]",
      "text/plain": [
       "<Figure size 432x288 with 1 Axes>"
      ]
     },
     "metadata": {
      "needs_background": "light"
     },
     "output_type": "display_data"
    }
   ],
   "source": [
    "plt.imshow(X_train[1], cmap='gray')"
   ]
  },
  {
   "cell_type": "code",
   "execution_count": 16,
   "metadata": {
    "colab": {
     "base_uri": "https://localhost:8080/"
    },
    "id": "4agCcHz1Oafb",
    "outputId": "78eee0ea-1a14-445f-cca9-8f0053fee962"
   },
   "outputs": [
    {
     "data": {
      "text/plain": [
       "8"
      ]
     },
     "execution_count": 16,
     "metadata": {},
     "output_type": "execute_result"
    }
   ],
   "source": [
    "y_train[1]"
   ]
  },
  {
   "cell_type": "markdown",
   "metadata": {},
   "source": [
    "Prepare features and target for training."
   ]
  },
  {
   "cell_type": "code",
   "execution_count": 19,
   "metadata": {
    "colab": {
     "base_uri": "https://localhost:8080/"
    },
    "id": "yWvqCPBoOcE1",
    "outputId": "f4fe1c74-0ecc-464d-8887-ee803042c31e"
   },
   "outputs": [
    {
     "name": "stdout",
     "output_type": "stream",
     "text": [
      "(49000, 784)\n",
      "(14000, 784)\n",
      "(7000, 784)\n"
     ]
    }
   ],
   "source": [
    "image_height, image_width = 28, 28\n",
    "\n",
    "X_train = X_train.reshape(49000, image_height*image_width)\n",
    "X_val = X_val.reshape(14000, image_height*image_width)\n",
    "X_test = X_test.reshape(7000, image_height*image_width)\n",
    "\n",
    "X_train = X_train.astype('float32')\n",
    "X_val = X_val.astype('float32')\n",
    "X_test = X_test.astype('float32')\n",
    "\n",
    "X_train /= 255.0\n",
    "X_val /= 255.0\n",
    "X_test /= 255.0\n",
    "\n",
    "print(X_train.shape)\n",
    "print(X_val.shape)\n",
    "print(X_test.shape)"
   ]
  },
  {
   "cell_type": "code",
   "execution_count": 20,
   "metadata": {
    "colab": {
     "base_uri": "https://localhost:8080/"
    },
    "id": "3REP10J_Oswg",
    "outputId": "32a8d375-1623-4dd3-a9ba-6fc1cb81104d"
   },
   "outputs": [
    {
     "name": "stdout",
     "output_type": "stream",
     "text": [
      "(49000, 10)\n",
      "(14000, 10)\n",
      "(7000, 10)\n"
     ]
    }
   ],
   "source": [
    "y_train = to_categorical(y_train,10)\n",
    "y_val = to_categorical(y_val,10)\n",
    "y_test = to_categorical(y_test,10)\n",
    "\n",
    "print(y_train.shape)\n",
    "print(y_val.shape)\n",
    "print(y_test.shape)"
   ]
  },
  {
   "cell_type": "markdown",
   "metadata": {},
   "source": [
    "Train a neural network with 2 hidden layers of 64 nodes each."
   ]
  },
  {
   "cell_type": "code",
   "execution_count": 21,
   "metadata": {
    "id": "AQx8riOTOuEk"
   },
   "outputs": [],
   "source": [
    "model = Sequential()"
   ]
  },
  {
   "cell_type": "code",
   "execution_count": 22,
   "metadata": {
    "id": "pS2KvBYLOwPu"
   },
   "outputs": [],
   "source": [
    "model.add(Dense(64, activation='relu', input_shape=(784,)))\n",
    "model.add(Dense(64, activation='relu'))\n",
    "model.add(Dense(10, activation='softmax'))"
   ]
  },
  {
   "cell_type": "code",
   "execution_count": 23,
   "metadata": {
    "id": "6QQwJ_rhOxYp"
   },
   "outputs": [],
   "source": [
    "model.compile(optimizer='adam', loss='categorical_crossentropy', metrics=['accuracy'])"
   ]
  },
  {
   "cell_type": "code",
   "execution_count": 24,
   "metadata": {
    "colab": {
     "base_uri": "https://localhost:8080/"
    },
    "id": "6i3ymD5MOy52",
    "outputId": "846fe8d8-4448-4cb9-91f8-dbf71303cd3a"
   },
   "outputs": [
    {
     "name": "stdout",
     "output_type": "stream",
     "text": [
      "Model: \"sequential\"\n",
      "_________________________________________________________________\n",
      " Layer (type)                Output Shape              Param #   \n",
      "=================================================================\n",
      " dense (Dense)               (None, 64)                50240     \n",
      "                                                                 \n",
      " dense_1 (Dense)             (None, 64)                4160      \n",
      "                                                                 \n",
      " dense_2 (Dense)             (None, 10)                650       \n",
      "                                                                 \n",
      "=================================================================\n",
      "Total params: 55,050\n",
      "Trainable params: 55,050\n",
      "Non-trainable params: 0\n",
      "_________________________________________________________________\n"
     ]
    }
   ],
   "source": [
    "model.summary()"
   ]
  },
  {
   "cell_type": "code",
   "execution_count": 25,
   "metadata": {
    "colab": {
     "base_uri": "https://localhost:8080/"
    },
    "id": "IKCczkL1O0bU",
    "outputId": "e7ecff09-0681-4ae4-9f04-123fca83821a"
   },
   "outputs": [
    {
     "name": "stdout",
     "output_type": "stream",
     "text": [
      "Epoch 1/20\n",
      "1532/1532 [==============================] - 6s 3ms/step - loss: 0.2998 - accuracy: 0.9121 - val_loss: 0.1769 - val_accuracy: 0.9487\n",
      "Epoch 2/20\n",
      "1532/1532 [==============================] - 5s 4ms/step - loss: 0.1374 - accuracy: 0.9584 - val_loss: 0.1383 - val_accuracy: 0.9606\n",
      "Epoch 3/20\n",
      "1532/1532 [==============================] - 6s 4ms/step - loss: 0.0987 - accuracy: 0.9699 - val_loss: 0.1172 - val_accuracy: 0.9649\n",
      "Epoch 4/20\n",
      "1532/1532 [==============================] - 6s 4ms/step - loss: 0.0757 - accuracy: 0.9768 - val_loss: 0.1261 - val_accuracy: 0.9620\n",
      "Epoch 5/20\n",
      "1532/1532 [==============================] - 5s 3ms/step - loss: 0.0630 - accuracy: 0.9803 - val_loss: 0.0954 - val_accuracy: 0.9703\n",
      "Epoch 6/20\n",
      "1532/1532 [==============================] - 5s 3ms/step - loss: 0.0506 - accuracy: 0.9841 - val_loss: 0.1010 - val_accuracy: 0.9699\n",
      "Epoch 7/20\n",
      "1532/1532 [==============================] - 5s 3ms/step - loss: 0.0433 - accuracy: 0.9862 - val_loss: 0.1096 - val_accuracy: 0.9687\n",
      "Epoch 8/20\n",
      "1532/1532 [==============================] - 5s 3ms/step - loss: 0.0357 - accuracy: 0.9887 - val_loss: 0.1143 - val_accuracy: 0.9691\n",
      "Epoch 9/20\n",
      "1532/1532 [==============================] - 5s 4ms/step - loss: 0.0336 - accuracy: 0.9885 - val_loss: 0.1171 - val_accuracy: 0.9693\n",
      "Epoch 10/20\n",
      "1532/1532 [==============================] - 7s 4ms/step - loss: 0.0269 - accuracy: 0.9910 - val_loss: 0.1220 - val_accuracy: 0.9694\n",
      "Epoch 11/20\n",
      "1532/1532 [==============================] - 8s 5ms/step - loss: 0.0241 - accuracy: 0.9921 - val_loss: 0.1104 - val_accuracy: 0.9744\n",
      "Epoch 12/20\n",
      "1532/1532 [==============================] - 6s 4ms/step - loss: 0.0210 - accuracy: 0.9931 - val_loss: 0.1296 - val_accuracy: 0.9700\n",
      "Epoch 13/20\n",
      "1532/1532 [==============================] - 5s 3ms/step - loss: 0.0194 - accuracy: 0.9939 - val_loss: 0.1171 - val_accuracy: 0.9734\n",
      "Epoch 14/20\n",
      "1532/1532 [==============================] - 5s 3ms/step - loss: 0.0176 - accuracy: 0.9942 - val_loss: 0.1291 - val_accuracy: 0.9729\n",
      "Epoch 15/20\n",
      "1532/1532 [==============================] - 4s 3ms/step - loss: 0.0176 - accuracy: 0.9939 - val_loss: 0.1262 - val_accuracy: 0.9729\n",
      "Epoch 16/20\n",
      "1532/1532 [==============================] - 4s 3ms/step - loss: 0.0151 - accuracy: 0.9947 - val_loss: 0.1237 - val_accuracy: 0.9755\n",
      "Epoch 17/20\n",
      "1532/1532 [==============================] - 5s 3ms/step - loss: 0.0118 - accuracy: 0.9961 - val_loss: 0.1321 - val_accuracy: 0.9733\n",
      "Epoch 18/20\n",
      "1532/1532 [==============================] - 4s 3ms/step - loss: 0.0139 - accuracy: 0.9953 - val_loss: 0.1564 - val_accuracy: 0.9701\n",
      "Epoch 19/20\n",
      "1532/1532 [==============================] - 4s 3ms/step - loss: 0.0134 - accuracy: 0.9954 - val_loss: 0.1453 - val_accuracy: 0.9723\n",
      "Epoch 20/20\n",
      "1532/1532 [==============================] - 5s 3ms/step - loss: 0.0097 - accuracy: 0.9966 - val_loss: 0.1480 - val_accuracy: 0.9731\n"
     ]
    }
   ],
   "source": [
    "history = model.fit(X_train, y_train, epochs=20, validation_data=(X_val, y_val))"
   ]
  },
  {
   "cell_type": "markdown",
   "metadata": {},
   "source": [
    "Evaluate the model performance."
   ]
  },
  {
   "cell_type": "code",
   "execution_count": 26,
   "metadata": {
    "colab": {
     "base_uri": "https://localhost:8080/",
     "height": 282
    },
    "id": "tlhGKXS7O290",
    "outputId": "e9083f38-19ab-426c-ff1b-1f785fb26585"
   },
   "outputs": [
    {
     "data": {
      "text/plain": [
       "<matplotlib.legend.Legend at 0x2386731daf0>"
      ]
     },
     "execution_count": 26,
     "metadata": {},
     "output_type": "execute_result"
    },
    {
     "data": {
      "image/png": "[encoded data removed]",
      "text/plain": [
       "<Figure size 432x288 with 1 Axes>"
      ]
     },
     "metadata": {
      "needs_background": "light"
     },
     "output_type": "display_data"
    }
   ],
   "source": [
    "plt.plot(history.history['accuracy'])\n",
    "plt.plot(history.history['val_accuracy'])\n",
    "\n",
    "plt.xlabel('Epoch')\n",
    "plt.ylabel('Percent')\n",
    "plt.title('Accuracy')\n",
    "plt.legend(['Training', 'Validation'])"
   ]
  },
  {
   "cell_type": "code",
   "execution_count": 27,
   "metadata": {
    "colab": {
     "base_uri": "https://localhost:8080/",
     "height": 282
    },
    "id": "qWA5ygvbPIwJ",
    "outputId": "6394efd6-d79e-4f0b-fdb1-12aaa661a2fd"
   },
   "outputs": [
    {
     "data": {
      "text/plain": [
       "<matplotlib.legend.Legend at 0x2386730cf40>"
      ]
     },
     "execution_count": 27,
     "metadata": {},
     "output_type": "execute_result"
    },
    {
     "data": {
      "image/png": "[encoded data removed]",
      "text/plain": [
       "<Figure size 432x288 with 1 Axes>"
      ]
     },
     "metadata": {
      "needs_background": "light"
     },
     "output_type": "display_data"
    }
   ],
   "source": [
    "plt.plot(history.history['loss'])\n",
    "plt.plot(history.history['val_loss'])\n",
    "\n",
    "plt.xlabel('Epoch')\n",
    "plt.ylabel('Loss Value')\n",
    "plt.title('Loss')\n",
    "plt.legend(['Training', 'Validation'])"
   ]
  },
  {
   "cell_type": "code",
   "execution_count": 28,
   "metadata": {
    "colab": {
     "base_uri": "https://localhost:8080/"
    },
    "id": "0U7ss-FUPK0r",
    "outputId": "4e65d027-de7d-4d11-8923-f81795c9130b"
   },
   "outputs": [
    {
     "name": "stdout",
     "output_type": "stream",
     "text": [
      "219/219 [==============================] - 0s 2ms/step - loss: 0.1800 - accuracy: 0.9693\n"
     ]
    },
    {
     "data": {
      "text/plain": [
       "[0.17997093498706818, 0.9692857265472412]"
      ]
     },
     "execution_count": 28,
     "metadata": {},
     "output_type": "execute_result"
    }
   ],
   "source": [
    "score = model.evaluate(X_test, y_test)\n",
    "score"
   ]
  }
 ],
 "metadata": {
  "colab": {
   "collapsed_sections": [],
   "name": "mnist_digit.ipynb",
   "provenance": []
  },
  "kernelspec": {
   "display_name": "Python 3",
   "language": "python",
   "name": "python3"
  },
  "language_info": {
   "codemirror_mode": {
    "name": "ipython",
    "version": 3
   },
   "file_extension": ".py",
   "mimetype": "text/x-python",
   "name": "python",
   "nbconvert_exporter": "python",
   "pygments_lexer": "ipython3",
   "version": "3.8.8"
  }
 },
 "nbformat": 4,
 "nbformat_minor": 1
}
