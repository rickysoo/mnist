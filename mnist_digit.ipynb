{
  "nbformat": 4,
  "nbformat_minor": 0,
  "metadata": {
    "colab": {
      "name": "mnist_digit.ipynb",
      "provenance": [],
      "collapsed_sections": []
    },
    "kernelspec": {
      "name": "python3",
      "display_name": "Python 3"
    },
    "language_info": {
      "name": "python"
    }
  },
  "cells": [
    {
      "cell_type": "markdown",
      "source": [
        "# MNIST Handwritten Digit Classifier - Classify the Number\n",
        "\n",
        "Given a dataset of 6,000 images of handwritten digits, train a neural network to identify the number."
      ],
      "metadata": {
        "id": "tZwJ4a-TyS_f"
      }
    },
    {
      "cell_type": "code",
      "execution_count": 1,
      "metadata": {
        "id": "hfhY0DVpNchp"
      },
      "outputs": [],
      "source": [
        "from keras.datasets import mnist\n",
        "from keras.preprocessing.image import load_img, array_to_img\n",
        "from keras.utils.np_utils import to_categorical\n",
        "from keras.models import Sequential\n",
        "from keras.layers import Dense\n",
        "\n",
        "import numpy as np\n",
        "import matplotlib.pyplot as plt\n",
        "%matplotlib inline"
      ]
    },
    {
      "cell_type": "code",
      "source": [
        "(X_train, y_train), (X_test, y_test) = mnist.load_data()"
      ],
      "metadata": {
        "id": "ZpQ5nxMZNdxm",
        "colab": {
          "base_uri": "https://localhost:8080/"
        },
        "outputId": "6315097e-87f1-40df-ad59-d8b277c1cce3"
      },
      "execution_count": 2,
      "outputs": [
        {
          "output_type": "stream",
          "name": "stdout",
          "text": [
            "Downloading data from https://storage.googleapis.com/tensorflow/tf-keras-datasets/mnist.npz\n",
            "11493376/11490434 [==============================] - 0s 0us/step\n",
            "11501568/11490434 [==============================] - 0s 0us/step\n"
          ]
        }
      ]
    },
    {
      "cell_type": "code",
      "source": [
        "print(X_train.shape)\n",
        "print(y_train.shape)\n",
        "print(X_test.shape)\n",
        "print(y_test.shape)"
      ],
      "metadata": {
        "colab": {
          "base_uri": "https://localhost:8080/"
        },
        "id": "t60CIIS9Nlsc",
        "outputId": "a5d2d1c4-3bcb-4e54-d1c6-95ca4af673fa"
      },
      "execution_count": 3,
      "outputs": [
        {
          "output_type": "stream",
          "name": "stdout",
          "text": [
            "(60000, 28, 28)\n",
            "(60000,)\n",
            "(10000, 28, 28)\n",
            "(10000,)\n"
          ]
        }
      ]
    },
    {
      "cell_type": "code",
      "source": [
        "plt.imshow(X_train[1], cmap='gray')"
      ],
      "metadata": {
        "colab": {
          "base_uri": "https://localhost:8080/",
          "height": 282
        },
        "id": "qceNb9m8OWXg",
        "outputId": "29cb37be-99cc-4d47-a8da-460c3c70067b"
      },
      "execution_count": 4,
      "outputs": [
        {
          "output_type": "execute_result",
          "data": {
            "text/plain": [
              "<matplotlib.image.AxesImage at 0x7f29fa1d9c10>"
            ]
          },
          "metadata": {},
          "execution_count": 4
        },
        {
          "output_type": "display_data",
          "data": {
            "image/png": "[encoded data removed]",
            "text/plain": [
              "<Figure size 432x288 with 1 Axes>"
            ]
          },
          "metadata": {
            "needs_background": "light"
          }
        }
      ]
    },
    {
      "cell_type": "code",
      "source": [
        "y_train[1]"
      ],
      "metadata": {
        "colab": {
          "base_uri": "https://localhost:8080/"
        },
        "id": "4agCcHz1Oafb",
        "outputId": "78eee0ea-1a14-445f-cca9-8f0053fee962"
      },
      "execution_count": 5,
      "outputs": [
        {
          "output_type": "execute_result",
          "data": {
            "text/plain": [
              "0"
            ]
          },
          "metadata": {},
          "execution_count": 5
        }
      ]
    },
    {
      "cell_type": "code",
      "source": [
        "image_height,image_width = 28, 28\n",
        "\n",
        "X_train = X_train.reshape(60000, image_height*image_width)\n",
        "X_test = X_test.reshape(10000, image_height*image_width)\n",
        "\n",
        "X_train = X_train.astype('float32')\n",
        "X_test = X_test.astype('float32')\n",
        "\n",
        "X_train /= 255.0\n",
        "X_test /= 255.0\n",
        "\n",
        "print(X_train.shape)\n",
        "print(X_test.shape)"
      ],
      "metadata": {
        "colab": {
          "base_uri": "https://localhost:8080/"
        },
        "id": "yWvqCPBoOcE1",
        "outputId": "f4fe1c74-0ecc-464d-8887-ee803042c31e"
      },
      "execution_count": 6,
      "outputs": [
        {
          "output_type": "stream",
          "name": "stdout",
          "text": [
            "(60000, 784)\n",
            "(10000, 784)\n"
          ]
        }
      ]
    },
    {
      "cell_type": "code",
      "source": [
        "y_train = to_categorical(y_train,10)\n",
        "y_test = to_categorical(y_test,10)\n",
        "\n",
        "print(y_train.shape)\n",
        "print(y_test.shape)"
      ],
      "metadata": {
        "colab": {
          "base_uri": "https://localhost:8080/"
        },
        "id": "3REP10J_Oswg",
        "outputId": "32a8d375-1623-4dd3-a9ba-6fc1cb81104d"
      },
      "execution_count": 7,
      "outputs": [
        {
          "output_type": "stream",
          "name": "stdout",
          "text": [
            "(60000, 10)\n",
            "(10000, 10)\n"
          ]
        }
      ]
    },
    {
      "cell_type": "code",
      "source": [
        "model = Sequential()"
      ],
      "metadata": {
        "id": "AQx8riOTOuEk"
      },
      "execution_count": 8,
      "outputs": []
    },
    {
      "cell_type": "code",
      "source": [
        "model.add(Dense(512, activation='relu', input_shape=(784,)))\n",
        "model.add(Dense(512, activation='relu'))\n",
        "model.add(Dense(10, activation='softmax'))"
      ],
      "metadata": {
        "id": "pS2KvBYLOwPu"
      },
      "execution_count": 9,
      "outputs": []
    },
    {
      "cell_type": "code",
      "source": [
        "model.compile(optimizer='adam',loss='categorical_crossentropy', metrics=['accuracy'])"
      ],
      "metadata": {
        "id": "6QQwJ_rhOxYp"
      },
      "execution_count": 10,
      "outputs": []
    },
    {
      "cell_type": "code",
      "source": [
        "model.summary()"
      ],
      "metadata": {
        "colab": {
          "base_uri": "https://localhost:8080/"
        },
        "id": "6i3ymD5MOy52",
        "outputId": "846fe8d8-4448-4cb9-91f8-dbf71303cd3a"
      },
      "execution_count": 11,
      "outputs": [
        {
          "output_type": "stream",
          "name": "stdout",
          "text": [
            "Model: \"sequential\"\n",
            "_________________________________________________________________\n",
            " Layer (type)                Output Shape              Param #   \n",
            "=================================================================\n",
            " dense (Dense)               (None, 512)               401920    \n",
            "                                                                 \n",
            " dense_1 (Dense)             (None, 512)               262656    \n",
            "                                                                 \n",
            " dense_2 (Dense)             (None, 10)                5130      \n",
            "                                                                 \n",
            "=================================================================\n",
            "Total params: 669,706\n",
            "Trainable params: 669,706\n",
            "Non-trainable params: 0\n",
            "_________________________________________________________________\n"
          ]
        }
      ]
    },
    {
      "cell_type": "code",
      "source": [
        "history = model.fit(X_train, y_train, epochs=20, validation_data=(X_test, y_test))"
      ],
      "metadata": {
        "colab": {
          "base_uri": "https://localhost:8080/"
        },
        "id": "IKCczkL1O0bU",
        "outputId": "e7ecff09-0681-4ae4-9f04-123fca83821a"
      },
      "execution_count": 12,
      "outputs": [
        {
          "output_type": "stream",
          "name": "stdout",
          "text": [
            "Epoch 1/20\n",
            "1875/1875 [==============================] - 25s 13ms/step - loss: 0.1842 - accuracy: 0.9445 - val_loss: 0.1089 - val_accuracy: 0.9648\n",
            "Epoch 2/20\n",
            "1875/1875 [==============================] - 18s 9ms/step - loss: 0.0798 - accuracy: 0.9749 - val_loss: 0.0980 - val_accuracy: 0.9704\n",
            "Epoch 3/20\n",
            "1875/1875 [==============================] - 18s 9ms/step - loss: 0.0558 - accuracy: 0.9829 - val_loss: 0.0876 - val_accuracy: 0.9742\n",
            "Epoch 4/20\n",
            "1875/1875 [==============================] - 18s 10ms/step - loss: 0.0437 - accuracy: 0.9860 - val_loss: 0.0796 - val_accuracy: 0.9766\n",
            "Epoch 5/20\n",
            "1875/1875 [==============================] - 18s 10ms/step - loss: 0.0326 - accuracy: 0.9893 - val_loss: 0.0802 - val_accuracy: 0.9798\n",
            "Epoch 6/20\n",
            "1875/1875 [==============================] - 19s 10ms/step - loss: 0.0284 - accuracy: 0.9914 - val_loss: 0.0874 - val_accuracy: 0.9789\n",
            "Epoch 7/20\n",
            "1875/1875 [==============================] - 17s 9ms/step - loss: 0.0258 - accuracy: 0.9919 - val_loss: 0.0903 - val_accuracy: 0.9786\n",
            "Epoch 8/20\n",
            "1875/1875 [==============================] - 18s 9ms/step - loss: 0.0235 - accuracy: 0.9926 - val_loss: 0.1061 - val_accuracy: 0.9769\n",
            "Epoch 9/20\n",
            "1875/1875 [==============================] - 18s 9ms/step - loss: 0.0205 - accuracy: 0.9937 - val_loss: 0.1088 - val_accuracy: 0.9788\n",
            "Epoch 10/20\n",
            "1875/1875 [==============================] - 19s 10ms/step - loss: 0.0200 - accuracy: 0.9939 - val_loss: 0.0948 - val_accuracy: 0.9816\n",
            "Epoch 11/20\n",
            "1875/1875 [==============================] - 17s 9ms/step - loss: 0.0158 - accuracy: 0.9952 - val_loss: 0.1118 - val_accuracy: 0.9798\n",
            "Epoch 12/20\n",
            "1875/1875 [==============================] - 18s 10ms/step - loss: 0.0177 - accuracy: 0.9950 - val_loss: 0.1176 - val_accuracy: 0.9805\n",
            "Epoch 13/20\n",
            "1875/1875 [==============================] - 18s 10ms/step - loss: 0.0145 - accuracy: 0.9955 - val_loss: 0.1156 - val_accuracy: 0.9803\n",
            "Epoch 14/20\n",
            "1875/1875 [==============================] - 18s 10ms/step - loss: 0.0157 - accuracy: 0.9958 - val_loss: 0.1361 - val_accuracy: 0.9792\n",
            "Epoch 15/20\n",
            "1875/1875 [==============================] - 17s 9ms/step - loss: 0.0157 - accuracy: 0.9956 - val_loss: 0.1114 - val_accuracy: 0.9820\n",
            "Epoch 16/20\n",
            "1875/1875 [==============================] - 17s 9ms/step - loss: 0.0114 - accuracy: 0.9966 - val_loss: 0.1493 - val_accuracy: 0.9797\n",
            "Epoch 17/20\n",
            "1875/1875 [==============================] - 17s 9ms/step - loss: 0.0135 - accuracy: 0.9963 - val_loss: 0.1348 - val_accuracy: 0.9804\n",
            "Epoch 18/20\n",
            "1875/1875 [==============================] - 18s 9ms/step - loss: 0.0138 - accuracy: 0.9966 - val_loss: 0.1557 - val_accuracy: 0.9786\n",
            "Epoch 19/20\n",
            "1875/1875 [==============================] - 17s 9ms/step - loss: 0.0116 - accuracy: 0.9970 - val_loss: 0.1845 - val_accuracy: 0.9795\n",
            "Epoch 20/20\n",
            "1875/1875 [==============================] - 18s 10ms/step - loss: 0.0141 - accuracy: 0.9964 - val_loss: 0.1505 - val_accuracy: 0.9785\n"
          ]
        }
      ]
    },
    {
      "cell_type": "code",
      "source": [
        "plt.plot(history.history['accuracy'])\n",
        "plt.plot(history.history['val_accuracy'])"
      ],
      "metadata": {
        "colab": {
          "base_uri": "https://localhost:8080/",
          "height": 282
        },
        "id": "tlhGKXS7O290",
        "outputId": "e9083f38-19ab-426c-ff1b-1f785fb26585"
      },
      "execution_count": 13,
      "outputs": [
        {
          "output_type": "execute_result",
          "data": {
            "text/plain": [
              "[<matplotlib.lines.Line2D at 0x7f29f5a80750>]"
            ]
          },
          "metadata": {},
          "execution_count": 13
        },
        {
          "output_type": "display_data",
          "data": {
            "image/png": "[encoded data removed]",
            "text/plain": [
              "<Figure size 432x288 with 1 Axes>"
            ]
          },
          "metadata": {
            "needs_background": "light"
          }
        }
      ]
    },
    {
      "cell_type": "code",
      "source": [
        "plt.plot(history.history['loss'])\n",
        "plt.plot(history.history['val_loss'])"
      ],
      "metadata": {
        "colab": {
          "base_uri": "https://localhost:8080/",
          "height": 282
        },
        "id": "qWA5ygvbPIwJ",
        "outputId": "6394efd6-d79e-4f0b-fdb1-12aaa661a2fd"
      },
      "execution_count": 14,
      "outputs": [
        {
          "output_type": "execute_result",
          "data": {
            "text/plain": [
              "[<matplotlib.lines.Line2D at 0x7f29f59fba10>]"
            ]
          },
          "metadata": {},
          "execution_count": 14
        },
        {
          "output_type": "display_data",
          "data": {
            "image/png": "[encoded data removed]",
            "text/plain": [
              "<Figure size 432x288 with 1 Axes>"
            ]
          },
          "metadata": {
            "needs_background": "light"
          }
        }
      ]
    },
    {
      "cell_type": "code",
      "source": [
        "score = model.evaluate(X_test, y_test)\n",
        "score"
      ],
      "metadata": {
        "colab": {
          "base_uri": "https://localhost:8080/"
        },
        "id": "0U7ss-FUPK0r",
        "outputId": "4e65d027-de7d-4d11-8923-f81795c9130b"
      },
      "execution_count": 15,
      "outputs": [
        {
          "output_type": "stream",
          "name": "stdout",
          "text": [
            "313/313 [==============================] - 2s 6ms/step - loss: 0.1505 - accuracy: 0.9785\n"
          ]
        },
        {
          "output_type": "execute_result",
          "data": {
            "text/plain": [
              "[0.15050168335437775, 0.9785000085830688]"
            ]
          },
          "metadata": {},
          "execution_count": 15
        }
      ]
    }
  ]
}