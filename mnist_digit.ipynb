{
 "cells": [
  {
   "cell_type": "markdown",
   "metadata": {
    "id": "tZwJ4a-TyS_f"
   },
   "source": [
    "# MNIST Handwritten Digit Classifier - Classify the Number\n",
    "\n",
    "Given a dataset of 6,000 images of handwritten digits, train a neural network to identify the number."
   ]
  },
  {
   "cell_type": "code",
   "execution_count": 1,
   "metadata": {
    "id": "hfhY0DVpNchp"
   },
   "outputs": [],
   "source": [
    "from sklearn.model_selection import train_test_split\n",
    "from keras.datasets import mnist\n",
    "from keras.preprocessing.image import load_img, array_to_img\n",
    "from keras.utils.np_utils import to_categorical\n",
    "from keras.models import Sequential\n",
    "from keras.layers import Dense\n",
    "\n",
    "import numpy as np\n",
    "import matplotlib.pyplot as plt\n",
    "%matplotlib inline"
   ]
  },
  {
   "cell_type": "markdown",
   "metadata": {},
   "source": [
    "Load and split data into training, validation and test sets."
   ]
  },
  {
   "cell_type": "code",
   "execution_count": 2,
   "metadata": {
    "colab": {
     "base_uri": "https://localhost:8080/"
    },
    "id": "ZpQ5nxMZNdxm",
    "outputId": "6315097e-87f1-40df-ad59-d8b277c1cce3"
   },
   "outputs": [],
   "source": [
    "(X_train, y_train), (X_test, y_test) = mnist.load_data()"
   ]
  },
  {
   "cell_type": "code",
   "execution_count": 3,
   "metadata": {},
   "outputs": [],
   "source": [
    "X = np.concatenate([X_train, X_test])\n",
    "y = np.concatenate([y_train, y_test])\n",
    "\n",
    "X_train, X_val, y_train, y_val = train_test_split(X, y, test_size=0.3)\n",
    "X_val, X_test, y_val, y_test = train_test_split(X_val, y_val, test_size=1/3)"
   ]
  },
  {
   "cell_type": "code",
   "execution_count": 4,
   "metadata": {
    "colab": {
     "base_uri": "https://localhost:8080/"
    },
    "id": "t60CIIS9Nlsc",
    "outputId": "a5d2d1c4-3bcb-4e54-d1c6-95ca4af673fa"
   },
   "outputs": [
    {
     "name": "stdout",
     "output_type": "stream",
     "text": [
      "(49000, 28, 28)\n",
      "(49000,)\n",
      "(14000, 28, 28)\n",
      "(14000,)\n",
      "(7000, 28, 28)\n",
      "(7000,)\n"
     ]
    }
   ],
   "source": [
    "print(X_train.shape)\n",
    "print(y_train.shape)\n",
    "print(X_val.shape)\n",
    "print(y_val.shape)\n",
    "print(X_test.shape)\n",
    "print(y_test.shape)"
   ]
  },
  {
   "cell_type": "markdown",
   "metadata": {},
   "source": [
    "Show one example digit."
   ]
  },
  {
   "cell_type": "code",
   "execution_count": 5,
   "metadata": {
    "colab": {
     "base_uri": "https://localhost:8080/",
     "height": 282
    },
    "id": "qceNb9m8OWXg",
    "outputId": "29cb37be-99cc-4d47-a8da-460c3c70067b"
   },
   "outputs": [
    {
     "data": {
      "text/plain": [
       "<matplotlib.image.AxesImage at 0x25bc40e92b0>"
      ]
     },
     "execution_count": 5,
     "metadata": {},
     "output_type": "execute_result"
    },
    {
     "data": {
      "image/png": "[encoded data removed]",
      "text/plain": [
       "<Figure size 432x288 with 1 Axes>"
      ]
     },
     "metadata": {
      "needs_background": "light"
     },
     "output_type": "display_data"
    }
   ],
   "source": [
    "plt.imshow(X_train[1], cmap='gray')"
   ]
  },
  {
   "cell_type": "code",
   "execution_count": 6,
   "metadata": {
    "colab": {
     "base_uri": "https://localhost:8080/"
    },
    "id": "4agCcHz1Oafb",
    "outputId": "78eee0ea-1a14-445f-cca9-8f0053fee962"
   },
   "outputs": [
    {
     "data": {
      "text/plain": [
       "9"
      ]
     },
     "execution_count": 6,
     "metadata": {},
     "output_type": "execute_result"
    }
   ],
   "source": [
    "y_train[1]"
   ]
  },
  {
   "cell_type": "markdown",
   "metadata": {},
   "source": [
    "Prepare features and target for training."
   ]
  },
  {
   "cell_type": "code",
   "execution_count": 7,
   "metadata": {
    "colab": {
     "base_uri": "https://localhost:8080/"
    },
    "id": "yWvqCPBoOcE1",
    "outputId": "f4fe1c74-0ecc-464d-8887-ee803042c31e"
   },
   "outputs": [
    {
     "name": "stdout",
     "output_type": "stream",
     "text": [
      "(49000, 784)\n",
      "(14000, 784)\n",
      "(7000, 784)\n"
     ]
    }
   ],
   "source": [
    "image_height, image_width = 28, 28\n",
    "\n",
    "X_train = X_train.reshape(49000, image_height*image_width)\n",
    "X_val = X_val.reshape(14000, image_height*image_width)\n",
    "X_test = X_test.reshape(7000, image_height*image_width)\n",
    "\n",
    "X_train = X_train.astype('float32')\n",
    "X_val = X_val.astype('float32')\n",
    "X_test = X_test.astype('float32')\n",
    "\n",
    "X_train /= 255.0\n",
    "X_val /= 255.0\n",
    "X_test /= 255.0\n",
    "\n",
    "print(X_train.shape)\n",
    "print(X_val.shape)\n",
    "print(X_test.shape)"
   ]
  },
  {
   "cell_type": "code",
   "execution_count": 8,
   "metadata": {
    "colab": {
     "base_uri": "https://localhost:8080/"
    },
    "id": "3REP10J_Oswg",
    "outputId": "32a8d375-1623-4dd3-a9ba-6fc1cb81104d"
   },
   "outputs": [
    {
     "name": "stdout",
     "output_type": "stream",
     "text": [
      "(49000, 10)\n",
      "(14000, 10)\n",
      "(7000, 10)\n"
     ]
    }
   ],
   "source": [
    "y_train = to_categorical(y_train, 10)\n",
    "y_val = to_categorical(y_val, 10)\n",
    "y_test = to_categorical(y_test, 10)\n",
    "\n",
    "print(y_train.shape)\n",
    "print(y_val.shape)\n",
    "print(y_test.shape)"
   ]
  },
  {
   "cell_type": "markdown",
   "metadata": {},
   "source": [
    "Train a neural network with 2 hidden layers of 64 nodes each."
   ]
  },
  {
   "cell_type": "code",
   "execution_count": 9,
   "metadata": {
    "id": "AQx8riOTOuEk"
   },
   "outputs": [],
   "source": [
    "model = Sequential()"
   ]
  },
  {
   "cell_type": "code",
   "execution_count": 10,
   "metadata": {
    "id": "pS2KvBYLOwPu"
   },
   "outputs": [],
   "source": [
    "model.add(Dense(64, activation='relu', input_shape=(784,)))\n",
    "model.add(Dense(64, activation='relu'))\n",
    "model.add(Dense(10, activation='softmax'))"
   ]
  },
  {
   "cell_type": "code",
   "execution_count": 11,
   "metadata": {
    "id": "6QQwJ_rhOxYp"
   },
   "outputs": [],
   "source": [
    "model.compile(optimizer='adam', loss='categorical_crossentropy', metrics=['accuracy'])"
   ]
  },
  {
   "cell_type": "code",
   "execution_count": 12,
   "metadata": {
    "colab": {
     "base_uri": "https://localhost:8080/"
    },
    "id": "6i3ymD5MOy52",
    "outputId": "846fe8d8-4448-4cb9-91f8-dbf71303cd3a"
   },
   "outputs": [
    {
     "name": "stdout",
     "output_type": "stream",
     "text": [
      "Model: \"sequential\"\n",
      "_________________________________________________________________\n",
      " Layer (type)                Output Shape              Param #   \n",
      "=================================================================\n",
      " dense (Dense)               (None, 64)                50240     \n",
      "                                                                 \n",
      " dense_1 (Dense)             (None, 64)                4160      \n",
      "                                                                 \n",
      " dense_2 (Dense)             (None, 10)                650       \n",
      "                                                                 \n",
      "=================================================================\n",
      "Total params: 55,050\n",
      "Trainable params: 55,050\n",
      "Non-trainable params: 0\n",
      "_________________________________________________________________\n"
     ]
    }
   ],
   "source": [
    "model.summary()"
   ]
  },
  {
   "cell_type": "code",
   "execution_count": 13,
   "metadata": {
    "colab": {
     "base_uri": "https://localhost:8080/"
    },
    "id": "IKCczkL1O0bU",
    "outputId": "e7ecff09-0681-4ae4-9f04-123fca83821a"
   },
   "outputs": [
    {
     "name": "stdout",
     "output_type": "stream",
     "text": [
      "Epoch 1/20\n",
      "1532/1532 [==============================] - 5s 3ms/step - loss: 0.2997 - accuracy: 0.9123 - val_loss: 0.1678 - val_accuracy: 0.9507\n",
      "Epoch 2/20\n",
      "1532/1532 [==============================] - 4s 3ms/step - loss: 0.1342 - accuracy: 0.9595 - val_loss: 0.1315 - val_accuracy: 0.9601\n",
      "Epoch 3/20\n",
      "1532/1532 [==============================] - 4s 2ms/step - loss: 0.0993 - accuracy: 0.9690 - val_loss: 0.1079 - val_accuracy: 0.9681\n",
      "Epoch 4/20\n",
      "1532/1532 [==============================] - 5s 3ms/step - loss: 0.0762 - accuracy: 0.9763 - val_loss: 0.1108 - val_accuracy: 0.9671\n",
      "Epoch 5/20\n",
      "1532/1532 [==============================] - 3s 2ms/step - loss: 0.0626 - accuracy: 0.9802 - val_loss: 0.1054 - val_accuracy: 0.9699\n",
      "Epoch 6/20\n",
      "1532/1532 [==============================] - 6s 4ms/step - loss: 0.0538 - accuracy: 0.9824 - val_loss: 0.0985 - val_accuracy: 0.9710\n",
      "Epoch 7/20\n",
      "1532/1532 [==============================] - 10s 6ms/step - loss: 0.0434 - accuracy: 0.9862 - val_loss: 0.1172 - val_accuracy: 0.9662\n",
      "Epoch 8/20\n",
      "1532/1532 [==============================] - 9s 6ms/step - loss: 0.0377 - accuracy: 0.9877 - val_loss: 0.1034 - val_accuracy: 0.9713\n",
      "Epoch 9/20\n",
      "1532/1532 [==============================] - 5s 4ms/step - loss: 0.0318 - accuracy: 0.9896 - val_loss: 0.1083 - val_accuracy: 0.9701\n",
      "Epoch 10/20\n",
      "1532/1532 [==============================] - 6s 4ms/step - loss: 0.0283 - accuracy: 0.9909 - val_loss: 0.1024 - val_accuracy: 0.9742\n",
      "Epoch 11/20\n",
      "1532/1532 [==============================] - 4s 2ms/step - loss: 0.0246 - accuracy: 0.9918 - val_loss: 0.1153 - val_accuracy: 0.9725\n",
      "Epoch 12/20\n",
      "1532/1532 [==============================] - 3s 2ms/step - loss: 0.0203 - accuracy: 0.9931 - val_loss: 0.1075 - val_accuracy: 0.9743\n",
      "Epoch 13/20\n",
      "1532/1532 [==============================] - 3s 2ms/step - loss: 0.0212 - accuracy: 0.9930 - val_loss: 0.1120 - val_accuracy: 0.9739\n",
      "Epoch 14/20\n",
      "1532/1532 [==============================] - 3s 2ms/step - loss: 0.0178 - accuracy: 0.9938 - val_loss: 0.1231 - val_accuracy: 0.9732\n",
      "Epoch 15/20\n",
      "1532/1532 [==============================] - 3s 2ms/step - loss: 0.0149 - accuracy: 0.9949 - val_loss: 0.1195 - val_accuracy: 0.9733\n",
      "Epoch 16/20\n",
      "1532/1532 [==============================] - 3s 2ms/step - loss: 0.0145 - accuracy: 0.9952 - val_loss: 0.1281 - val_accuracy: 0.9732\n",
      "Epoch 17/20\n",
      "1532/1532 [==============================] - 3s 2ms/step - loss: 0.0147 - accuracy: 0.9950 - val_loss: 0.1489 - val_accuracy: 0.9718\n",
      "Epoch 18/20\n",
      "1532/1532 [==============================] - 4s 2ms/step - loss: 0.0146 - accuracy: 0.9955 - val_loss: 0.1343 - val_accuracy: 0.9724\n",
      "Epoch 19/20\n",
      "1532/1532 [==============================] - 4s 3ms/step - loss: 0.0102 - accuracy: 0.9965 - val_loss: 0.1419 - val_accuracy: 0.9738\n",
      "Epoch 20/20\n",
      "1532/1532 [==============================] - 4s 3ms/step - loss: 0.0136 - accuracy: 0.9959 - val_loss: 0.1630 - val_accuracy: 0.9700\n"
     ]
    }
   ],
   "source": [
    "history = model.fit(X_train, y_train, epochs=20, validation_data=(X_val, y_val))"
   ]
  },
  {
   "cell_type": "markdown",
   "metadata": {},
   "source": [
    "Evaluate the model performance."
   ]
  },
  {
   "cell_type": "code",
   "execution_count": 14,
   "metadata": {
    "colab": {
     "base_uri": "https://localhost:8080/",
     "height": 282
    },
    "id": "tlhGKXS7O290",
    "outputId": "e9083f38-19ab-426c-ff1b-1f785fb26585"
   },
   "outputs": [
    {
     "data": {
      "text/plain": [
       "<matplotlib.legend.Legend at 0x25bc38f00d0>"
      ]
     },
     "execution_count": 14,
     "metadata": {},
     "output_type": "execute_result"
    },
    {
     "data": {
      "image/png": "[encoded data removed]",
      "text/plain": [
       "<Figure size 432x288 with 1 Axes>"
      ]
     },
     "metadata": {
      "needs_background": "light"
     },
     "output_type": "display_data"
    }
   ],
   "source": [
    "plt.plot(history.history['accuracy'])\n",
    "plt.plot(history.history['val_accuracy'])\n",
    "\n",
    "plt.xlabel('Epoch')\n",
    "plt.ylabel('Percent')\n",
    "plt.title('Accuracy')\n",
    "plt.legend(['Training', 'Validation'])"
   ]
  },
  {
   "cell_type": "code",
   "execution_count": 15,
   "metadata": {
    "colab": {
     "base_uri": "https://localhost:8080/",
     "height": 282
    },
    "id": "qWA5ygvbPIwJ",
    "outputId": "6394efd6-d79e-4f0b-fdb1-12aaa661a2fd"
   },
   "outputs": [
    {
     "data": {
      "text/plain": [
       "<matplotlib.legend.Legend at 0x25bc3967580>"
      ]
     },
     "execution_count": 15,
     "metadata": {},
     "output_type": "execute_result"
    },
    {
     "data": {
      "image/png": "[encoded data removed]",
      "text/plain": [
       "<Figure size 432x288 with 1 Axes>"
      ]
     },
     "metadata": {
      "needs_background": "light"
     },
     "output_type": "display_data"
    }
   ],
   "source": [
    "plt.plot(history.history['loss'])\n",
    "plt.plot(history.history['val_loss'])\n",
    "\n",
    "plt.xlabel('Epoch')\n",
    "plt.ylabel('Loss Value')\n",
    "plt.title('Loss')\n",
    "plt.legend(['Training', 'Validation'])"
   ]
  },
  {
   "cell_type": "code",
   "execution_count": 16,
   "metadata": {
    "colab": {
     "base_uri": "https://localhost:8080/"
    },
    "id": "0U7ss-FUPK0r",
    "outputId": "4e65d027-de7d-4d11-8923-f81795c9130b"
   },
   "outputs": [
    {
     "name": "stdout",
     "output_type": "stream",
     "text": [
      "219/219 [==============================] - 0s 2ms/step - loss: 0.1502 - accuracy: 0.9743\n"
     ]
    },
    {
     "data": {
      "text/plain": [
       "[0.15024442970752716, 0.9742857217788696]"
      ]
     },
     "execution_count": 16,
     "metadata": {},
     "output_type": "execute_result"
    }
   ],
   "source": [
    "score = model.evaluate(X_test, y_test)\n",
    "score"
   ]
  },
  {
   "cell_type": "code",
   "execution_count": 19,
   "metadata": {},
   "outputs": [
    {
     "data": {
      "text/plain": [
       "array([2, 5, 8, ..., 2, 9, 1], dtype=int64)"
      ]
     },
     "execution_count": 19,
     "metadata": {},
     "output_type": "execute_result"
    }
   ],
   "source": [
    "np.argmax(y_test, axis=1)"
   ]
  },
  {
   "cell_type": "code",
   "execution_count": 20,
   "metadata": {},
   "outputs": [
    {
     "data": {
      "text/plain": [
       "array([[4.05110564e-24, 1.92791566e-25, 1.00000000e+00, ...,\n",
       "        2.28027601e-12, 1.56234930e-21, 2.31776732e-27],\n",
       "       [5.80445171e-11, 1.57701643e-10, 1.95596820e-11, ...,\n",
       "        1.70596832e-04, 9.04324509e-07, 1.70896053e-02],\n",
       "       [1.23438238e-15, 3.64549047e-15, 4.46204922e-07, ...,\n",
       "        2.09889467e-11, 9.99999523e-01, 1.25166294e-12],\n",
       "       ...,\n",
       "       [4.14927126e-13, 4.71925508e-15, 1.00000000e+00, ...,\n",
       "        6.48893717e-10, 5.85504171e-12, 2.92923411e-12],\n",
       "       [4.56587139e-15, 1.15422026e-10, 8.30999619e-16, ...,\n",
       "        1.68579276e-10, 2.21422702e-09, 9.99997497e-01],\n",
       "       [3.74365079e-20, 9.99999285e-01, 2.49330103e-08, ...,\n",
       "        3.19708100e-08, 5.60114245e-07, 2.54182257e-08]], dtype=float32)"
      ]
     },
     "execution_count": 20,
     "metadata": {},
     "output_type": "execute_result"
    }
   ],
   "source": [
    "y_pred_test"
   ]
  },
  {
   "cell_type": "code",
   "execution_count": 17,
   "metadata": {},
   "outputs": [
    {
     "data": {
      "image/png": "[encoded data removed]",
      "text/plain": [
       "<Figure size 504x432 with 2 Axes>"
      ]
     },
     "metadata": {
      "needs_background": "light"
     },
     "output_type": "display_data"
    },
    {
     "name": "stdout",
     "output_type": "stream",
     "text": [
      "Test accuracy: 0.9742857142857143\n"
     ]
    }
   ],
   "source": [
    "from sklearn.metrics import confusion_matrix, accuracy_score\n",
    "\n",
    "y_pred_test = model.predict(X_test)\n",
    "y_pred_test_classes = np.argmax(y_pred_test, axis=1)\n",
    "\n",
    "plt.figure(figsize=(7, 6))\n",
    "plt.title('Confusion Matrix', fontsize=16)\n",
    "plt.imshow(confusion_matrix(np.argmax(y_test, axis=1), y_pred_test_classes))\n",
    "plt.xticks(np.arange(10), np.arange(10), rotation=45, fontsize=12)\n",
    "plt.yticks(np.arange(10), np.arange(10), fontsize=12)\n",
    "plt.colorbar()\n",
    "plt.show()\n",
    "print(\"Test accuracy:\", accuracy_score(np.argmax(y_test, axis=1), y_pred_test_classes))"
   ]
  }
 ],
 "metadata": {
  "colab": {
   "collapsed_sections": [],
   "name": "mnist_digit.ipynb",
   "provenance": []
  },
  "kernelspec": {
   "display_name": "Python 3",
   "language": "python",
   "name": "python3"
  },
  "language_info": {
   "codemirror_mode": {
    "name": "ipython",
    "version": 3
   },
   "file_extension": ".py",
   "mimetype": "text/x-python",
   "name": "python",
   "nbconvert_exporter": "python",
   "pygments_lexer": "ipython3",
   "version": "3.8.8"
  }
 },
 "nbformat": 4,
 "nbformat_minor": 1
}
