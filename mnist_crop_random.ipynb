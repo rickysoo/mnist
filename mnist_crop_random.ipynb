{
 "cells": [
  {
   "cell_type": "markdown",
   "metadata": {
    "id": "fP68sN35yFk8"
   },
   "source": [
    "# MNIST Handwritten Digit Classifier - Identify Number from Cropped Image\n",
    "\n",
    "Given a dataset of 6,000 images of handwritten digits that have beeen cropped in half randomly, train a neural network to identify the number."
   ]
  },
  {
   "cell_type": "code",
   "execution_count": 2,
   "metadata": {
    "id": "hfhY0DVpNchp",
    "scrolled": true
   },
   "outputs": [],
   "source": [
    "from sklearn.model_selection import train_test_split\n",
    "from keras.datasets import mnist\n",
    "from keras.preprocessing.image import load_img, array_to_img\n",
    "from keras.utils.np_utils import to_categorical\n",
    "from keras.models import Sequential\n",
    "from keras.layers import Dense\n",
    "\n",
    "import numpy as np\n",
    "import matplotlib.pyplot as plt\n",
    "%matplotlib inline"
   ]
  },
  {
   "cell_type": "markdown",
   "metadata": {},
   "source": [
    "Load and split data into training, validation and test sets."
   ]
  },
  {
   "cell_type": "code",
   "execution_count": 3,
   "metadata": {
    "id": "ZpQ5nxMZNdxm"
   },
   "outputs": [],
   "source": [
    "(X_train, y_train), (X_test, y_test) = mnist.load_data()"
   ]
  },
  {
   "cell_type": "code",
   "execution_count": 4,
   "metadata": {},
   "outputs": [],
   "source": [
    "X = np.concatenate([X_train, X_test])\n",
    "y = np.concatenate([y_train, y_test])\n",
    "\n",
    "X_train, X_val, y_train, y_val = train_test_split(X, y, test_size=0.3)\n",
    "X_val, X_test, y_val, y_test = train_test_split(X_val, y_val, test_size=1/3)"
   ]
  },
  {
   "cell_type": "code",
   "execution_count": 5,
   "metadata": {
    "colab": {
     "base_uri": "https://localhost:8080/"
    },
    "id": "t60CIIS9Nlsc",
    "outputId": "5493ca1a-51ae-4340-94f9-05c8b6f72eda"
   },
   "outputs": [
    {
     "name": "stdout",
     "output_type": "stream",
     "text": [
      "(49000, 28, 28)\n",
      "(49000,)\n",
      "(14000, 28, 28)\n",
      "(14000,)\n",
      "(7000, 28, 28)\n",
      "(7000,)\n"
     ]
    }
   ],
   "source": [
    "print(X_train.shape)\n",
    "print(y_train.shape)\n",
    "print(X_val.shape)\n",
    "print(y_val.shape)\n",
    "print(X_test.shape)\n",
    "print(y_test.shape)"
   ]
  },
  {
   "cell_type": "markdown",
   "metadata": {},
   "source": [
    "Crop the images to 14x14 pixels randomly."
   ]
  },
  {
   "cell_type": "code",
   "execution_count": 6,
   "metadata": {
    "id": "z32mWhOvF3GP"
   },
   "outputs": [],
   "source": [
    "from numpy.random import randint"
   ]
  },
  {
   "cell_type": "code",
   "execution_count": 7,
   "metadata": {
    "colab": {
     "base_uri": "https://localhost:8080/"
    },
    "id": "wFJ4nQECHCMl",
    "outputId": "85b8d607-5686-4a64-8363-bdf1f8e52ffd"
   },
   "outputs": [
    {
     "name": "stdout",
     "output_type": "stream",
     "text": [
      "7\n",
      "9\n"
     ]
    }
   ],
   "source": [
    "start_row = randint(0, 14)\n",
    "start_col = randint(0, 14)\n",
    "\n",
    "print(start_row)\n",
    "print(start_col)"
   ]
  },
  {
   "cell_type": "code",
   "execution_count": 8,
   "metadata": {
    "id": "bg014R6eGe7q"
   },
   "outputs": [],
   "source": [
    "X_train = X_train[:, start_row:start_row+14, start_col:start_col+14]\n",
    "X_val = X_val[:, start_row:start_row+14, start_col:start_col+14]\n",
    "X_test = X_test[:, start_row:start_row+14, start_col:start_col+14]"
   ]
  },
  {
   "cell_type": "markdown",
   "metadata": {},
   "source": [
    "Show some example digits."
   ]
  },
  {
   "cell_type": "code",
   "execution_count": 9,
   "metadata": {
    "colab": {
     "base_uri": "https://localhost:8080/",
     "height": 282
    },
    "id": "AY8zrQ9srGJt",
    "outputId": "f7324d29-ba6c-4d74-c1f2-929b36ef2a95"
   },
   "outputs": [
    {
     "data": {
      "text/plain": [
       "<matplotlib.image.AxesImage at 0x17f9dc8a8e0>"
      ]
     },
     "execution_count": 9,
     "metadata": {},
     "output_type": "execute_result"
    },
    {
     "data": {
      "image/png": "[encoded data removed]",
      "text/plain": [
       "<Figure size 432x288 with 1 Axes>"
      ]
     },
     "metadata": {
      "needs_background": "light"
     },
     "output_type": "display_data"
    }
   ],
   "source": [
    "plt.imshow(X_train[1], cmap='gray')"
   ]
  },
  {
   "cell_type": "code",
   "execution_count": 10,
   "metadata": {
    "colab": {
     "base_uri": "https://localhost:8080/",
     "height": 282
    },
    "id": "aTTdaDRyHX39",
    "outputId": "ad966c4b-5b2c-41f9-f4d6-d95e2e55cc25"
   },
   "outputs": [
    {
     "data": {
      "text/plain": [
       "<matplotlib.image.AxesImage at 0x17f9dd6f550>"
      ]
     },
     "execution_count": 10,
     "metadata": {},
     "output_type": "execute_result"
    },
    {
     "data": {
      "image/png": "[encoded data removed]",
      "text/plain": [
       "<Figure size 432x288 with 1 Axes>"
      ]
     },
     "metadata": {
      "needs_background": "light"
     },
     "output_type": "display_data"
    }
   ],
   "source": [
    "plt.imshow(X_train[2], cmap='gray')"
   ]
  },
  {
   "cell_type": "code",
   "execution_count": 11,
   "metadata": {
    "colab": {
     "base_uri": "https://localhost:8080/",
     "height": 282
    },
    "id": "eLlihiNLrQg4",
    "outputId": "641093f6-551b-45e4-fba4-c743d0612a38"
   },
   "outputs": [
    {
     "data": {
      "text/plain": [
       "<matplotlib.image.AxesImage at 0x17f9ddcfc40>"
      ]
     },
     "execution_count": 11,
     "metadata": {},
     "output_type": "execute_result"
    },
    {
     "data": {
      "image/png": "[encoded data removed]",
      "text/plain": [
       "<Figure size 432x288 with 1 Axes>"
      ]
     },
     "metadata": {
      "needs_background": "light"
     },
     "output_type": "display_data"
    }
   ],
   "source": [
    "plt.imshow(X_val[1], cmap='gray')"
   ]
  },
  {
   "cell_type": "code",
   "execution_count": 12,
   "metadata": {
    "colab": {
     "base_uri": "https://localhost:8080/",
     "height": 282
    },
    "id": "cOALDIiWHd70",
    "outputId": "aa8b06ac-a71e-4354-960f-237a55106b5d"
   },
   "outputs": [
    {
     "data": {
      "text/plain": [
       "<matplotlib.image.AxesImage at 0x17f9de28f40>"
      ]
     },
     "execution_count": 12,
     "metadata": {},
     "output_type": "execute_result"
    },
    {
     "data": {
      "image/png": "[encoded data removed]",
      "text/plain": [
       "<Figure size 432x288 with 1 Axes>"
      ]
     },
     "metadata": {
      "needs_background": "light"
     },
     "output_type": "display_data"
    }
   ],
   "source": [
    "plt.imshow(X_val[2], cmap='gray')"
   ]
  },
  {
   "cell_type": "markdown",
   "metadata": {},
   "source": [
    "Prepare features and target for training."
   ]
  },
  {
   "cell_type": "code",
   "execution_count": 13,
   "metadata": {
    "colab": {
     "base_uri": "https://localhost:8080/"
    },
    "id": "_PIKPLq9Of7Z",
    "outputId": "b15f4657-620c-4b60-8f82-443833a57462"
   },
   "outputs": [
    {
     "name": "stdout",
     "output_type": "stream",
     "text": [
      "(49000, 196)\n",
      "(14000, 196)\n",
      "(7000, 196)\n"
     ]
    }
   ],
   "source": [
    "image_height,image_width = 14, 14\n",
    "\n",
    "X_train = X_train.reshape(49000, image_height*image_width)\n",
    "X_val = X_val.reshape(14000, image_height*image_width)\n",
    "X_test = X_test.reshape(7000, image_height*image_width)\n",
    "\n",
    "X_train = X_train.astype('float32')\n",
    "X_val = X_val.astype('float32')\n",
    "X_test = X_test.astype('float32')\n",
    "\n",
    "X_train /= 255.0\n",
    "X_val /= 255.0\n",
    "X_test /= 255.0\n",
    "\n",
    "print(X_train.shape)\n",
    "print(X_val.shape)\n",
    "print(X_test.shape)"
   ]
  },
  {
   "cell_type": "code",
   "execution_count": 14,
   "metadata": {
    "colab": {
     "base_uri": "https://localhost:8080/"
    },
    "id": "3REP10J_Oswg",
    "outputId": "14955fc4-9b54-4ee4-ca17-cdd7748aae16"
   },
   "outputs": [
    {
     "name": "stdout",
     "output_type": "stream",
     "text": [
      "(49000, 10)\n",
      "(14000, 10)\n",
      "(7000, 10)\n"
     ]
    }
   ],
   "source": [
    "y_train = to_categorical(y_train, 10)\n",
    "y_val = to_categorical(y_val, 10)\n",
    "y_test = to_categorical(y_test, 10)\n",
    "\n",
    "print(y_train.shape)\n",
    "print(y_val.shape)\n",
    "print(y_test.shape)"
   ]
  },
  {
   "cell_type": "markdown",
   "metadata": {},
   "source": [
    "Train a neural network with 2 hidden layers of 64 nodes each."
   ]
  },
  {
   "cell_type": "code",
   "execution_count": 15,
   "metadata": {
    "id": "AQx8riOTOuEk"
   },
   "outputs": [],
   "source": [
    "model = Sequential()"
   ]
  },
  {
   "cell_type": "code",
   "execution_count": 16,
   "metadata": {
    "id": "pS2KvBYLOwPu"
   },
   "outputs": [],
   "source": [
    "model.add(Dense(16, activation='relu', input_shape=(196,)))\n",
    "model.add(Dense(16, activation='relu'))\n",
    "model.add(Dense(10,activation='softmax'))"
   ]
  },
  {
   "cell_type": "code",
   "execution_count": 17,
   "metadata": {
    "id": "6QQwJ_rhOxYp"
   },
   "outputs": [],
   "source": [
    "model.compile(optimizer='adam', loss='binary_crossentropy', metrics=['accuracy'])"
   ]
  },
  {
   "cell_type": "code",
   "execution_count": 18,
   "metadata": {
    "colab": {
     "base_uri": "https://localhost:8080/"
    },
    "id": "6i3ymD5MOy52",
    "outputId": "79b47be8-5f0e-4629-962b-fcd131525c62"
   },
   "outputs": [
    {
     "name": "stdout",
     "output_type": "stream",
     "text": [
      "Model: \"sequential\"\n",
      "_________________________________________________________________\n",
      " Layer (type)                Output Shape              Param #   \n",
      "=================================================================\n",
      " dense (Dense)               (None, 16)                3152      \n",
      "                                                                 \n",
      " dense_1 (Dense)             (None, 16)                272       \n",
      "                                                                 \n",
      " dense_2 (Dense)             (None, 10)                170       \n",
      "                                                                 \n",
      "=================================================================\n",
      "Total params: 3,594\n",
      "Trainable params: 3,594\n",
      "Non-trainable params: 0\n",
      "_________________________________________________________________\n"
     ]
    }
   ],
   "source": [
    "model.summary()"
   ]
  },
  {
   "cell_type": "code",
   "execution_count": 19,
   "metadata": {
    "colab": {
     "background_save": true,
     "base_uri": "https://localhost:8080/"
    },
    "id": "IKCczkL1O0bU",
    "outputId": "1867a604-fd16-4d31-f09d-fd77b73a9582"
   },
   "outputs": [
    {
     "name": "stdout",
     "output_type": "stream",
     "text": [
      "Epoch 1/20\n",
      "1532/1532 [==============================] - 8s 4ms/step - loss: 0.1589 - accuracy: 0.7358 - val_loss: 0.0937 - val_accuracy: 0.8561\n",
      "Epoch 2/20\n",
      "1532/1532 [==============================] - 7s 5ms/step - loss: 0.0864 - accuracy: 0.8654 - val_loss: 0.0788 - val_accuracy: 0.8773\n",
      "Epoch 3/20\n",
      "1532/1532 [==============================] - 6s 4ms/step - loss: 0.0758 - accuracy: 0.8805 - val_loss: 0.0700 - val_accuracy: 0.8931\n",
      "Epoch 4/20\n",
      "1532/1532 [==============================] - 7s 4ms/step - loss: 0.0687 - accuracy: 0.8926 - val_loss: 0.0668 - val_accuracy: 0.8991\n",
      "Epoch 5/20\n",
      "1532/1532 [==============================] - 6s 4ms/step - loss: 0.0636 - accuracy: 0.9006 - val_loss: 0.0616 - val_accuracy: 0.9072\n",
      "Epoch 6/20\n",
      "1532/1532 [==============================] - 7s 4ms/step - loss: 0.0596 - accuracy: 0.9083 - val_loss: 0.0599 - val_accuracy: 0.9105\n",
      "Epoch 7/20\n",
      "1532/1532 [==============================] - 7s 5ms/step - loss: 0.0568 - accuracy: 0.9129 - val_loss: 0.0578 - val_accuracy: 0.9134\n",
      "Epoch 8/20\n",
      "1532/1532 [==============================] - 9s 6ms/step - loss: 0.0547 - accuracy: 0.9169 - val_loss: 0.0557 - val_accuracy: 0.9155\n",
      "Epoch 9/20\n",
      "1532/1532 [==============================] - 7s 5ms/step - loss: 0.0530 - accuracy: 0.9188 - val_loss: 0.0540 - val_accuracy: 0.9181\n",
      "Epoch 10/20\n",
      "1532/1532 [==============================] - 7s 5ms/step - loss: 0.0515 - accuracy: 0.9207 - val_loss: 0.0534 - val_accuracy: 0.9180\n",
      "Epoch 11/20\n",
      "1532/1532 [==============================] - 8s 5ms/step - loss: 0.0503 - accuracy: 0.9233 - val_loss: 0.0527 - val_accuracy: 0.9193\n",
      "Epoch 12/20\n",
      "1532/1532 [==============================] - 6s 4ms/step - loss: 0.0493 - accuracy: 0.9251 - val_loss: 0.0526 - val_accuracy: 0.9203\n",
      "Epoch 13/20\n",
      "1532/1532 [==============================] - 8s 5ms/step - loss: 0.0485 - accuracy: 0.9252 - val_loss: 0.0521 - val_accuracy: 0.9206\n",
      "Epoch 14/20\n",
      "1532/1532 [==============================] - 9s 6ms/step - loss: 0.0476 - accuracy: 0.9273 - val_loss: 0.0517 - val_accuracy: 0.9198\n",
      "Epoch 15/20\n",
      "1532/1532 [==============================] - 9s 6ms/step - loss: 0.0471 - accuracy: 0.9283 - val_loss: 0.0510 - val_accuracy: 0.9229\n",
      "Epoch 16/20\n",
      "1532/1532 [==============================] - 9s 6ms/step - loss: 0.0464 - accuracy: 0.9289 - val_loss: 0.0496 - val_accuracy: 0.9256\n",
      "Epoch 17/20\n",
      "1532/1532 [==============================] - 9s 6ms/step - loss: 0.0458 - accuracy: 0.9305 - val_loss: 0.0487 - val_accuracy: 0.9251\n",
      "Epoch 18/20\n",
      "1532/1532 [==============================] - 8s 5ms/step - loss: 0.0451 - accuracy: 0.9310 - val_loss: 0.0488 - val_accuracy: 0.9249\n",
      "Epoch 19/20\n",
      "1532/1532 [==============================] - 8s 6ms/step - loss: 0.0447 - accuracy: 0.9314 - val_loss: 0.0487 - val_accuracy: 0.9271\n",
      "Epoch 20/20\n",
      "1532/1532 [==============================] - 9s 6ms/step - loss: 0.0441 - accuracy: 0.9327 - val_loss: 0.0482 - val_accuracy: 0.9286\n"
     ]
    }
   ],
   "source": [
    "history = model.fit(X_train, y_train, epochs=20, validation_data=(X_val, y_val))"
   ]
  },
  {
   "cell_type": "markdown",
   "metadata": {},
   "source": [
    "Evaluate the model performance."
   ]
  },
  {
   "cell_type": "code",
   "execution_count": 20,
   "metadata": {
    "colab": {
     "background_save": true
    },
    "id": "tlhGKXS7O290",
    "outputId": "ec9cff12-400b-472c-8a43-4815c1fc2d62"
   },
   "outputs": [
    {
     "data": {
      "text/plain": [
       "<matplotlib.legend.Legend at 0x17f9f4ab070>"
      ]
     },
     "execution_count": 20,
     "metadata": {},
     "output_type": "execute_result"
    },
    {
     "data": {
      "image/png": "[encoded data removed]",
      "text/plain": [
       "<Figure size 432x288 with 1 Axes>"
      ]
     },
     "metadata": {
      "needs_background": "light"
     },
     "output_type": "display_data"
    }
   ],
   "source": [
    "plt.plot(history.history['accuracy'])\n",
    "plt.plot(history.history['val_accuracy'])\n",
    "\n",
    "plt.xlabel('Epoch')\n",
    "plt.ylabel('Percent')\n",
    "plt.title('Accuracy')\n",
    "plt.legend(['Training', 'Validation'])"
   ]
  },
  {
   "cell_type": "code",
   "execution_count": 21,
   "metadata": {
    "colab": {
     "background_save": true
    },
    "id": "qWA5ygvbPIwJ",
    "outputId": "7cbd653b-fac3-4108-d13e-50837b1a0b1a"
   },
   "outputs": [
    {
     "data": {
      "text/plain": [
       "<matplotlib.legend.Legend at 0x17f9f71a520>"
      ]
     },
     "execution_count": 21,
     "metadata": {},
     "output_type": "execute_result"
    },
    {
     "data": {
      "image/png": "[encoded data removed]",
      "text/plain": [
       "<Figure size 432x288 with 1 Axes>"
      ]
     },
     "metadata": {
      "needs_background": "light"
     },
     "output_type": "display_data"
    }
   ],
   "source": [
    "plt.plot(history.history['loss'])\n",
    "plt.plot(history.history['val_loss'])\n",
    "\n",
    "plt.xlabel('Epoch')\n",
    "plt.ylabel('Loss Value')\n",
    "plt.title('Loss')\n",
    "plt.legend(['Training', 'Validation'])"
   ]
  },
  {
   "cell_type": "code",
   "execution_count": 22,
   "metadata": {
    "colab": {
     "background_save": true
    },
    "id": "0U7ss-FUPK0r",
    "outputId": "2e9acfe4-e95e-449b-cfee-b37ed2575152"
   },
   "outputs": [
    {
     "name": "stdout",
     "output_type": "stream",
     "text": [
      "219/219 [==============================] - 1s 4ms/step - loss: 0.0471 - accuracy: 0.9284\n"
     ]
    },
    {
     "data": {
      "text/plain": [
       "[0.047093819826841354, 0.928428590297699]"
      ]
     },
     "execution_count": 22,
     "metadata": {},
     "output_type": "execute_result"
    }
   ],
   "source": [
    "score = model.evaluate(X_test, y_test)\n",
    "score"
   ]
  },
  {
   "cell_type": "code",
   "execution_count": 23,
   "metadata": {},
   "outputs": [
    {
     "data": {
      "image/png": "[encoded data removed]",
      "text/plain": [
       "<Figure size 504x432 with 2 Axes>"
      ]
     },
     "metadata": {
      "needs_background": "light"
     },
     "output_type": "display_data"
    },
    {
     "name": "stdout",
     "output_type": "stream",
     "text": [
      "Test accuracy: 0.9284285714285714\n"
     ]
    }
   ],
   "source": [
    "from sklearn.metrics import confusion_matrix, accuracy_score\n",
    "\n",
    "y_pred_test = model.predict(X_test)\n",
    "y_pred_test_classes = np.argmax(y_pred_test, axis=1)\n",
    "\n",
    "plt.figure(figsize=(7, 6))\n",
    "plt.title('Confusion Matrix', fontsize=16)\n",
    "plt.imshow(confusion_matrix(np.argmax(y_test, axis=1), y_pred_test_classes))\n",
    "plt.xticks(np.arange(10), np.arange(10), rotation=45, fontsize=12)\n",
    "plt.yticks(np.arange(10), np.arange(10), fontsize=12)\n",
    "plt.colorbar()\n",
    "plt.show()\n",
    "print(\"Test accuracy:\", accuracy_score(np.argmax(y_test, axis=1), y_pred_test_classes))"
   ]
  }
 ],
 "metadata": {
  "colab": {
   "collapsed_sections": [],
   "name": "mnist_crop_random.ipynb",
   "provenance": []
  },
  "kernelspec": {
   "display_name": "Python 3",
   "language": "python",
   "name": "python3"
  },
  "language_info": {
   "codemirror_mode": {
    "name": "ipython",
    "version": 3
   },
   "file_extension": ".py",
   "mimetype": "text/x-python",
   "name": "python",
   "nbconvert_exporter": "python",
   "pygments_lexer": "ipython3",
   "version": "3.8.8"
  }
 },
 "nbformat": 4,
 "nbformat_minor": 1
}
