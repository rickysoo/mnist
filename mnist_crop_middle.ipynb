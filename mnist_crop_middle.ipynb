{
 "cells": [
  {
   "cell_type": "markdown",
   "metadata": {
    "id": "fP68sN35yFk8"
   },
   "source": [
    "# MNIST Handwritten Digit Classifier - Identify Number from Cropped Image\n",
    "\n",
    "Given a dataset of 6,000 images of handwritten digits that have beeen cropped in half in the middle, train a neural network to identify the number."
   ]
  },
  {
   "cell_type": "code",
   "execution_count": 1,
   "metadata": {},
   "outputs": [],
   "source": [
    "from sklearn.model_selection import train_test_split\n",
    "from keras.datasets import mnist\n",
    "from keras.preprocessing.image import load_img, array_to_img\n",
    "from keras.utils.np_utils import to_categorical\n",
    "from keras.models import Sequential\n",
    "from keras.layers import Dense\n",
    "\n",
    "import numpy as np\n",
    "import matplotlib.pyplot as plt\n",
    "%matplotlib inline"
   ]
  },
  {
   "cell_type": "markdown",
   "metadata": {},
   "source": [
    "Load and split data into training, validation and test sets."
   ]
  },
  {
   "cell_type": "code",
   "execution_count": 2,
   "metadata": {
    "id": "ZpQ5nxMZNdxm"
   },
   "outputs": [],
   "source": [
    "(X_train, y_train), (X_test, y_test) = mnist.load_data()"
   ]
  },
  {
   "cell_type": "code",
   "execution_count": 3,
   "metadata": {},
   "outputs": [],
   "source": [
    "X = np.concatenate([X_train, X_test])\n",
    "y = np.concatenate([y_train, y_test])\n",
    "\n",
    "X_train, X_val, y_train, y_val = train_test_split(X, y, test_size=0.3)\n",
    "X_val, X_test, y_val, y_test = train_test_split(X_val, y_val, test_size=1/3)"
   ]
  },
  {
   "cell_type": "code",
   "execution_count": 4,
   "metadata": {
    "colab": {
     "base_uri": "https://localhost:8080/"
    },
    "id": "t60CIIS9Nlsc",
    "outputId": "c27adbbf-4346-4cc0-f181-8bda33459ff7"
   },
   "outputs": [
    {
     "name": "stdout",
     "output_type": "stream",
     "text": [
      "(49000, 28, 28)\n",
      "(49000,)\n",
      "(14000, 28, 28)\n",
      "(14000,)\n",
      "(7000, 28, 28)\n",
      "(7000,)\n"
     ]
    }
   ],
   "source": [
    "print(X_train.shape)\n",
    "print(y_train.shape)\n",
    "print(X_val.shape)\n",
    "print(y_val.shape)\n",
    "print(X_test.shape)\n",
    "print(y_test.shape)"
   ]
  },
  {
   "cell_type": "markdown",
   "metadata": {},
   "source": [
    "Crop the images to 14x14 pixels in the middle."
   ]
  },
  {
   "cell_type": "code",
   "execution_count": 5,
   "metadata": {
    "id": "8bF1XDyIqsN2"
   },
   "outputs": [],
   "source": [
    "X_train = X_train[:, 7:21, 7:21]\n",
    "X_val = X_val[:, 7:21, 7:21]\n",
    "X_test = X_test[:, 7:21, 7:21]"
   ]
  },
  {
   "cell_type": "markdown",
   "metadata": {},
   "source": [
    "Show some example digits."
   ]
  },
  {
   "cell_type": "code",
   "execution_count": 6,
   "metadata": {
    "colab": {
     "base_uri": "https://localhost:8080/",
     "height": 282
    },
    "id": "AY8zrQ9srGJt",
    "outputId": "13ff58b2-e8da-4bc6-cc81-9067835e052a"
   },
   "outputs": [
    {
     "data": {
      "text/plain": [
       "<matplotlib.image.AxesImage at 0x216d2dc46a0>"
      ]
     },
     "execution_count": 6,
     "metadata": {},
     "output_type": "execute_result"
    },
    {
     "data": {
      "image/png": "[encoded data removed]",
      "text/plain": [
       "<Figure size 432x288 with 1 Axes>"
      ]
     },
     "metadata": {
      "needs_background": "light"
     },
     "output_type": "display_data"
    }
   ],
   "source": [
    "plt.imshow(X_train[1], cmap='gray')"
   ]
  },
  {
   "cell_type": "code",
   "execution_count": 7,
   "metadata": {
    "colab": {
     "base_uri": "https://localhost:8080/",
     "height": 282
    },
    "id": "eLlihiNLrQg4",
    "outputId": "37eb15d5-e424-403b-a8d8-b41d6b47c5fa"
   },
   "outputs": [
    {
     "data": {
      "text/plain": [
       "<matplotlib.image.AxesImage at 0x216d2eaab20>"
      ]
     },
     "execution_count": 7,
     "metadata": {},
     "output_type": "execute_result"
    },
    {
     "data": {
      "image/png": "[encoded data removed]",
      "text/plain": [
       "<Figure size 432x288 with 1 Axes>"
      ]
     },
     "metadata": {
      "needs_background": "light"
     },
     "output_type": "display_data"
    }
   ],
   "source": [
    "plt.imshow(X_val[1], cmap='gray')"
   ]
  },
  {
   "cell_type": "markdown",
   "metadata": {},
   "source": [
    "Prepare features and target for training."
   ]
  },
  {
   "cell_type": "code",
   "execution_count": 8,
   "metadata": {
    "colab": {
     "base_uri": "https://localhost:8080/"
    },
    "id": "_PIKPLq9Of7Z",
    "outputId": "2bf820a3-54c0-4dc9-994a-174d754fb5e2"
   },
   "outputs": [
    {
     "name": "stdout",
     "output_type": "stream",
     "text": [
      "(49000, 196)\n",
      "(14000, 196)\n",
      "(7000, 196)\n"
     ]
    }
   ],
   "source": [
    "image_height,image_width = 14, 14\n",
    "\n",
    "X_train = X_train.reshape(49000, image_height*image_width)\n",
    "X_val = X_val.reshape(14000, image_height*image_width)\n",
    "X_test = X_test.reshape(7000, image_height*image_width)\n",
    "\n",
    "X_train = X_train.astype('float32')\n",
    "X_val = X_val.astype('float32')\n",
    "X_test = X_test.astype('float32')\n",
    "\n",
    "X_train /= 255.0\n",
    "X_val /= 255.0\n",
    "X_test /= 255.0\n",
    "\n",
    "print(X_train.shape)\n",
    "print(X_val.shape)\n",
    "print(X_test.shape)"
   ]
  },
  {
   "cell_type": "code",
   "execution_count": 9,
   "metadata": {
    "colab": {
     "base_uri": "https://localhost:8080/"
    },
    "id": "3REP10J_Oswg",
    "outputId": "62d0ae9a-9df2-4a93-bf53-eaaf3f6493ca"
   },
   "outputs": [
    {
     "name": "stdout",
     "output_type": "stream",
     "text": [
      "(49000, 10)\n",
      "(14000, 10)\n",
      "(7000, 10)\n"
     ]
    }
   ],
   "source": [
    "y_train = to_categorical(y_train, 10)\n",
    "y_val = to_categorical(y_val, 10)\n",
    "y_test = to_categorical(y_test, 10)\n",
    "\n",
    "print(y_train.shape)\n",
    "print(y_val.shape)\n",
    "print(y_test.shape)"
   ]
  },
  {
   "cell_type": "markdown",
   "metadata": {},
   "source": [
    "Train a neural network with 2 hidden layers of 64 nodes each."
   ]
  },
  {
   "cell_type": "code",
   "execution_count": 10,
   "metadata": {
    "id": "AQx8riOTOuEk"
   },
   "outputs": [],
   "source": [
    "model = Sequential()"
   ]
  },
  {
   "cell_type": "code",
   "execution_count": 11,
   "metadata": {
    "id": "pS2KvBYLOwPu"
   },
   "outputs": [],
   "source": [
    "model.add(Dense(16, activation='relu', input_shape=(196,)))\n",
    "model.add(Dense(16, activation='relu'))\n",
    "model.add(Dense(10,activation='softmax'))"
   ]
  },
  {
   "cell_type": "code",
   "execution_count": 12,
   "metadata": {
    "id": "6QQwJ_rhOxYp"
   },
   "outputs": [],
   "source": [
    "model.compile(optimizer='adam',loss='binary_crossentropy', metrics=['accuracy'])"
   ]
  },
  {
   "cell_type": "code",
   "execution_count": 13,
   "metadata": {
    "colab": {
     "base_uri": "https://localhost:8080/"
    },
    "id": "6i3ymD5MOy52",
    "outputId": "fb13faeb-4c8f-4c91-c929-d8411b662fd8"
   },
   "outputs": [
    {
     "name": "stdout",
     "output_type": "stream",
     "text": [
      "Model: \"sequential\"\n",
      "_________________________________________________________________\n",
      " Layer (type)                Output Shape              Param #   \n",
      "=================================================================\n",
      " dense (Dense)               (None, 16)                3152      \n",
      "                                                                 \n",
      " dense_1 (Dense)             (None, 16)                272       \n",
      "                                                                 \n",
      " dense_2 (Dense)             (None, 10)                170       \n",
      "                                                                 \n",
      "=================================================================\n",
      "Total params: 3,594\n",
      "Trainable params: 3,594\n",
      "Non-trainable params: 0\n",
      "_________________________________________________________________\n"
     ]
    }
   ],
   "source": [
    "model.summary()"
   ]
  },
  {
   "cell_type": "code",
   "execution_count": 14,
   "metadata": {
    "colab": {
     "base_uri": "https://localhost:8080/"
    },
    "id": "IKCczkL1O0bU",
    "outputId": "116cbc33-99fe-4298-f865-c584bfdccee7"
   },
   "outputs": [
    {
     "name": "stdout",
     "output_type": "stream",
     "text": [
      "Epoch 1/20\n",
      "1532/1532 [==============================] - 5s 3ms/step - loss: 0.1707 - accuracy: 0.6863 - val_loss: 0.0847 - val_accuracy: 0.8719\n",
      "Epoch 2/20\n",
      "1532/1532 [==============================] - 4s 2ms/step - loss: 0.0728 - accuracy: 0.8872 - val_loss: 0.0694 - val_accuracy: 0.8893\n",
      "Epoch 3/20\n",
      "1532/1532 [==============================] - 3s 2ms/step - loss: 0.0618 - accuracy: 0.9013 - val_loss: 0.0606 - val_accuracy: 0.9019\n",
      "Epoch 4/20\n",
      "1532/1532 [==============================] - 4s 2ms/step - loss: 0.0547 - accuracy: 0.9153 - val_loss: 0.0567 - val_accuracy: 0.9096\n",
      "Epoch 5/20\n",
      "1532/1532 [==============================] - 3s 2ms/step - loss: 0.0508 - accuracy: 0.9203 - val_loss: 0.0528 - val_accuracy: 0.9161\n",
      "Epoch 6/20\n",
      "1532/1532 [==============================] - 5s 3ms/step - loss: 0.0483 - accuracy: 0.9253 - val_loss: 0.0507 - val_accuracy: 0.9208\n",
      "Epoch 7/20\n",
      "1532/1532 [==============================] - 4s 2ms/step - loss: 0.0466 - accuracy: 0.9273 - val_loss: 0.0489 - val_accuracy: 0.9224\n",
      "Epoch 8/20\n",
      "1532/1532 [==============================] - 4s 2ms/step - loss: 0.0450 - accuracy: 0.9299 - val_loss: 0.0485 - val_accuracy: 0.9249\n",
      "Epoch 9/20\n",
      "1532/1532 [==============================] - 4s 2ms/step - loss: 0.0440 - accuracy: 0.9321 - val_loss: 0.0480 - val_accuracy: 0.9257\n",
      "Epoch 10/20\n",
      "1532/1532 [==============================] - 4s 3ms/step - loss: 0.0431 - accuracy: 0.9337 - val_loss: 0.0473 - val_accuracy: 0.9269\n",
      "Epoch 11/20\n",
      "1532/1532 [==============================] - 4s 2ms/step - loss: 0.0422 - accuracy: 0.9357 - val_loss: 0.0475 - val_accuracy: 0.9284\n",
      "Epoch 12/20\n",
      "1532/1532 [==============================] - 4s 2ms/step - loss: 0.0416 - accuracy: 0.9351 - val_loss: 0.0468 - val_accuracy: 0.9280\n",
      "Epoch 13/20\n",
      "1532/1532 [==============================] - 3s 2ms/step - loss: 0.0410 - accuracy: 0.9367 - val_loss: 0.0462 - val_accuracy: 0.9281\n",
      "Epoch 14/20\n",
      "1532/1532 [==============================] - 3s 2ms/step - loss: 0.0405 - accuracy: 0.9381 - val_loss: 0.0456 - val_accuracy: 0.9302\n",
      "Epoch 15/20\n",
      "1532/1532 [==============================] - 3s 2ms/step - loss: 0.0401 - accuracy: 0.9393 - val_loss: 0.0455 - val_accuracy: 0.9302\n",
      "Epoch 16/20\n",
      "1532/1532 [==============================] - 3s 2ms/step - loss: 0.0395 - accuracy: 0.9395 - val_loss: 0.0452 - val_accuracy: 0.9281\n",
      "Epoch 17/20\n",
      "1532/1532 [==============================] - 3s 2ms/step - loss: 0.0392 - accuracy: 0.9400 - val_loss: 0.0457 - val_accuracy: 0.9299\n",
      "Epoch 18/20\n",
      "1532/1532 [==============================] - 3s 2ms/step - loss: 0.0388 - accuracy: 0.9412 - val_loss: 0.0456 - val_accuracy: 0.9302\n",
      "Epoch 19/20\n",
      "1532/1532 [==============================] - 4s 3ms/step - loss: 0.0385 - accuracy: 0.9401 - val_loss: 0.0447 - val_accuracy: 0.9296\n",
      "Epoch 20/20\n",
      "1532/1532 [==============================] - 3s 2ms/step - loss: 0.0381 - accuracy: 0.9410 - val_loss: 0.0440 - val_accuracy: 0.9319\n"
     ]
    }
   ],
   "source": [
    "history = model.fit(X_train, y_train, epochs=20, validation_data=(X_val, y_val))"
   ]
  },
  {
   "cell_type": "markdown",
   "metadata": {},
   "source": [
    "Evaluate the model performance."
   ]
  },
  {
   "cell_type": "code",
   "execution_count": 15,
   "metadata": {
    "colab": {
     "base_uri": "https://localhost:8080/"
    },
    "id": "tlhGKXS7O290",
    "outputId": "8e158e50-0607-4051-fffb-7b063e268fdd"
   },
   "outputs": [
    {
     "data": {
      "text/plain": [
       "<matplotlib.legend.Legend at 0x216d44d21f0>"
      ]
     },
     "execution_count": 15,
     "metadata": {},
     "output_type": "execute_result"
    },
    {
     "data": {
      "image/png": "[encoded data removed]",
      "text/plain": [
       "<Figure size 432x288 with 1 Axes>"
      ]
     },
     "metadata": {
      "needs_background": "light"
     },
     "output_type": "display_data"
    }
   ],
   "source": [
    "plt.plot(history.history['accuracy'])\n",
    "plt.plot(history.history['val_accuracy'])\n",
    "\n",
    "plt.xlabel('Epoch')\n",
    "plt.ylabel('Percent')\n",
    "plt.title('Accuracy')\n",
    "plt.legend(['Training', 'Validation'])"
   ]
  },
  {
   "cell_type": "code",
   "execution_count": 16,
   "metadata": {
    "colab": {
     "base_uri": "https://localhost:8080/"
    },
    "id": "qWA5ygvbPIwJ",
    "outputId": "ebd519ec-d18f-4f1d-ee5e-64f95732f19e"
   },
   "outputs": [
    {
     "data": {
      "text/plain": [
       "<matplotlib.legend.Legend at 0x216d4788e80>"
      ]
     },
     "execution_count": 16,
     "metadata": {},
     "output_type": "execute_result"
    },
    {
     "data": {
      "image/png": "[encoded data removed]",
      "text/plain": [
       "<Figure size 432x288 with 1 Axes>"
      ]
     },
     "metadata": {
      "needs_background": "light"
     },
     "output_type": "display_data"
    }
   ],
   "source": [
    "plt.plot(history.history['loss'])\n",
    "plt.plot(history.history['val_loss'])\n",
    "\n",
    "plt.xlabel('Epoch')\n",
    "plt.ylabel('Loss Value')\n",
    "plt.title('Loss')\n",
    "plt.legend(['Training', 'Validation'])"
   ]
  },
  {
   "cell_type": "code",
   "execution_count": 17,
   "metadata": {
    "colab": {
     "base_uri": "https://localhost:8080/"
    },
    "id": "0U7ss-FUPK0r",
    "outputId": "46dc7f70-ae67-4cd7-a50b-c273a52546bc"
   },
   "outputs": [
    {
     "name": "stdout",
     "output_type": "stream",
     "text": [
      "219/219 [==============================] - 0s 1ms/step - loss: 0.0425 - accuracy: 0.9313\n"
     ]
    },
    {
     "data": {
      "text/plain": [
       "[0.04252712056040764, 0.9312857389450073]"
      ]
     },
     "execution_count": 17,
     "metadata": {},
     "output_type": "execute_result"
    }
   ],
   "source": [
    "score = model.evaluate(X_test, y_test)\n",
    "score"
   ]
  },
  {
   "cell_type": "code",
   "execution_count": 18,
   "metadata": {},
   "outputs": [
    {
     "data": {
      "image/png": "[encoded data removed]",
      "text/plain": [
       "<Figure size 504x432 with 2 Axes>"
      ]
     },
     "metadata": {
      "needs_background": "light"
     },
     "output_type": "display_data"
    },
    {
     "name": "stdout",
     "output_type": "stream",
     "text": [
      "Test accuracy: 0.9312857142857143\n"
     ]
    }
   ],
   "source": [
    "from sklearn.metrics import confusion_matrix, accuracy_score\n",
    "\n",
    "y_pred_test = model.predict(X_test)\n",
    "y_pred_test_classes = np.argmax(y_pred_test, axis=1)\n",
    "\n",
    "plt.figure(figsize=(7, 6))\n",
    "plt.title('Confusion Matrix', fontsize=16)\n",
    "plt.imshow(confusion_matrix(np.argmax(y_test, axis=1), y_pred_test_classes))\n",
    "plt.xticks(np.arange(10), np.arange(10), rotation=45, fontsize=12)\n",
    "plt.yticks(np.arange(10), np.arange(10), fontsize=12)\n",
    "plt.colorbar()\n",
    "plt.show()\n",
    "print(\"Test accuracy:\", accuracy_score(np.argmax(y_test, axis=1), y_pred_test_classes))"
   ]
  }
 ],
 "metadata": {
  "colab": {
   "collapsed_sections": [],
   "name": "mnist_crop_middle.ipynb",
   "provenance": []
  },
  "kernelspec": {
   "display_name": "Python 3",
   "language": "python",
   "name": "python3"
  },
  "language_info": {
   "codemirror_mode": {
    "name": "ipython",
    "version": 3
   },
   "file_extension": ".py",
   "mimetype": "text/x-python",
   "name": "python",
   "nbconvert_exporter": "python",
   "pygments_lexer": "ipython3",
   "version": "3.8.8"
  }
 },
 "nbformat": 4,
 "nbformat_minor": 1
}
