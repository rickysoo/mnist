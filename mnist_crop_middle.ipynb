{
  "nbformat": 4,
  "nbformat_minor": 0,
  "metadata": {
    "colab": {
      "name": "mnist_crop_middle.ipynb",
      "provenance": [],
      "collapsed_sections": []
    },
    "kernelspec": {
      "name": "python3",
      "display_name": "Python 3"
    },
    "language_info": {
      "name": "python"
    }
  },
  "cells": [
    {
      "cell_type": "markdown",
      "source": [
        "# MNIST Handwritten Digit Classifier - Identify Number from Cropped Image\n",
        "\n",
        "Given a dataset of 6,000 images of handwritten digits that have beeen cropped in half in the middle, train a neural network to identify the number."
      ],
      "metadata": {
        "id": "fP68sN35yFk8"
      }
    },
    {
      "cell_type": "code",
      "execution_count": null,
      "metadata": {
        "id": "hfhY0DVpNchp"
      },
      "outputs": [],
      "source": [
        "from keras.datasets import mnist\n",
        "from keras.preprocessing.image import load_img, array_to_img\n",
        "from keras.utils.np_utils import to_categorical\n",
        "from keras.models import Sequential\n",
        "from keras.layers import Dense\n",
        "\n",
        "import numpy as np\n",
        "import matplotlib.pyplot as plt\n",
        "%matplotlib inline"
      ]
    },
    {
      "cell_type": "code",
      "source": [
        "(X_train, y_train), (X_test, y_test) = mnist.load_data()"
      ],
      "metadata": {
        "id": "ZpQ5nxMZNdxm"
      },
      "execution_count": null,
      "outputs": []
    },
    {
      "cell_type": "code",
      "source": [
        "print(X_train.shape)\n",
        "print(y_train.shape)\n",
        "print(X_test.shape)\n",
        "print(y_test.shape)"
      ],
      "metadata": {
        "colab": {
          "base_uri": "https://localhost:8080/"
        },
        "id": "t60CIIS9Nlsc",
        "outputId": "c27adbbf-4346-4cc0-f181-8bda33459ff7"
      },
      "execution_count": null,
      "outputs": [
        {
          "output_type": "stream",
          "name": "stdout",
          "text": [
            "(60000, 28, 28)\n",
            "(60000,)\n",
            "(10000, 28, 28)\n",
            "(10000,)\n"
          ]
        }
      ]
    },
    {
      "cell_type": "code",
      "source": [
        "X_train = X_train[:, 7:21, 7:21]\n",
        "X_test = X_test[:, 7:21, 7:21]"
      ],
      "metadata": {
        "id": "8bF1XDyIqsN2"
      },
      "execution_count": null,
      "outputs": []
    },
    {
      "cell_type": "code",
      "source": [
        "plt.imshow(X_train[1], cmap='gray')"
      ],
      "metadata": {
        "colab": {
          "base_uri": "https://localhost:8080/",
          "height": 282
        },
        "id": "AY8zrQ9srGJt",
        "outputId": "13ff58b2-e8da-4bc6-cc81-9067835e052a"
      },
      "execution_count": null,
      "outputs": [
        {
          "output_type": "execute_result",
          "data": {
            "text/plain": [
              "<matplotlib.image.AxesImage at 0x7f9aab3eef10>"
            ]
          },
          "metadata": {},
          "execution_count": 5
        },
        {
          "output_type": "display_data",
          "data": {
            "image/png": "[encoded data removed]",
            "text/plain": [
              "<Figure size 432x288 with 1 Axes>"
            ]
          },
          "metadata": {
            "needs_background": "light"
          }
        }
      ]
    },
    {
      "cell_type": "code",
      "source": [
        "plt.imshow(X_test[1], cmap='gray')"
      ],
      "metadata": {
        "colab": {
          "base_uri": "https://localhost:8080/",
          "height": 282
        },
        "id": "eLlihiNLrQg4",
        "outputId": "37eb15d5-e424-403b-a8d8-b41d6b47c5fa"
      },
      "execution_count": null,
      "outputs": [
        {
          "output_type": "execute_result",
          "data": {
            "text/plain": [
              "<matplotlib.image.AxesImage at 0x7f9aaae78250>"
            ]
          },
          "metadata": {},
          "execution_count": 6
        },
        {
          "output_type": "display_data",
          "data": {
            "image/png": "[encoded data removed]",
            "text/plain": [
              "<Figure size 432x288 with 1 Axes>"
            ]
          },
          "metadata": {
            "needs_background": "light"
          }
        }
      ]
    },
    {
      "cell_type": "code",
      "source": [
        "image_height,image_width = 14, 14\n",
        "\n",
        "X_train = X_train.reshape(60000, image_height*image_width)\n",
        "X_test = X_test.reshape(10000, image_height*image_width)\n",
        "\n",
        "X_train = X_train.astype('float32')\n",
        "X_test = X_test.astype('float32')\n",
        "\n",
        "X_train /= 255.0\n",
        "X_test /= 255.0\n",
        "\n",
        "print(X_train.shape)\n",
        "print(X_test.shape)"
      ],
      "metadata": {
        "id": "_PIKPLq9Of7Z",
        "colab": {
          "base_uri": "https://localhost:8080/"
        },
        "outputId": "2bf820a3-54c0-4dc9-994a-174d754fb5e2"
      },
      "execution_count": null,
      "outputs": [
        {
          "output_type": "stream",
          "name": "stdout",
          "text": [
            "(60000, 196)\n",
            "(10000, 196)\n"
          ]
        }
      ]
    },
    {
      "cell_type": "code",
      "source": [
        "y_train = to_categorical(y_train,10)\n",
        "y_test = to_categorical(y_test,10)\n",
        "\n",
        "print(y_train.shape)\n",
        "print(y_test.shape)"
      ],
      "metadata": {
        "colab": {
          "base_uri": "https://localhost:8080/"
        },
        "id": "3REP10J_Oswg",
        "outputId": "62d0ae9a-9df2-4a93-bf53-eaaf3f6493ca"
      },
      "execution_count": null,
      "outputs": [
        {
          "output_type": "stream",
          "name": "stdout",
          "text": [
            "(60000, 10)\n",
            "(10000, 10)\n"
          ]
        }
      ]
    },
    {
      "cell_type": "code",
      "source": [
        "model = Sequential()"
      ],
      "metadata": {
        "id": "AQx8riOTOuEk"
      },
      "execution_count": null,
      "outputs": []
    },
    {
      "cell_type": "code",
      "source": [
        "model.add(Dense(512, activation='relu', input_shape=(196,)))\n",
        "model.add(Dense(512, activation='relu'))\n",
        "model.add(Dense(10,activation='softmax'))"
      ],
      "metadata": {
        "id": "pS2KvBYLOwPu"
      },
      "execution_count": null,
      "outputs": []
    },
    {
      "cell_type": "code",
      "source": [
        "model.compile(optimizer='adam',loss='binary_crossentropy', metrics=['accuracy'])"
      ],
      "metadata": {
        "id": "6QQwJ_rhOxYp"
      },
      "execution_count": null,
      "outputs": []
    },
    {
      "cell_type": "code",
      "source": [
        "model.summary()"
      ],
      "metadata": {
        "colab": {
          "base_uri": "https://localhost:8080/"
        },
        "id": "6i3ymD5MOy52",
        "outputId": "fb13faeb-4c8f-4c91-c929-d8411b662fd8"
      },
      "execution_count": null,
      "outputs": [
        {
          "output_type": "stream",
          "name": "stdout",
          "text": [
            "Model: \"sequential\"\n",
            "_________________________________________________________________\n",
            " Layer (type)                Output Shape              Param #   \n",
            "=================================================================\n",
            " dense (Dense)               (None, 512)               100864    \n",
            "                                                                 \n",
            " dense_1 (Dense)             (None, 512)               262656    \n",
            "                                                                 \n",
            " dense_2 (Dense)             (None, 10)                5130      \n",
            "                                                                 \n",
            "=================================================================\n",
            "Total params: 368,650\n",
            "Trainable params: 368,650\n",
            "Non-trainable params: 0\n",
            "_________________________________________________________________\n"
          ]
        }
      ]
    },
    {
      "cell_type": "code",
      "source": [
        "history = model.fit(X_train, y_train, epochs=20, validation_data=(X_test, y_test))"
      ],
      "metadata": {
        "colab": {
          "base_uri": "https://localhost:8080/"
        },
        "id": "IKCczkL1O0bU",
        "outputId": "116cbc33-99fe-4298-f865-c584bfdccee7"
      },
      "execution_count": null,
      "outputs": [
        {
          "output_type": "stream",
          "name": "stdout",
          "text": [
            "Epoch 1/20\n",
            "1875/1875 [==============================] - 17s 9ms/step - loss: 0.0447 - accuracy: 0.9275 - val_loss: 0.0259 - val_accuracy: 0.9584\n",
            "Epoch 2/20\n",
            "1875/1875 [==============================] - 11s 6ms/step - loss: 0.0211 - accuracy: 0.9657 - val_loss: 0.0207 - val_accuracy: 0.9658\n",
            "Epoch 3/20\n",
            "1875/1875 [==============================] - 12s 6ms/step - loss: 0.0156 - accuracy: 0.9747 - val_loss: 0.0186 - val_accuracy: 0.9687\n",
            "Epoch 4/20\n",
            "1875/1875 [==============================] - 12s 6ms/step - loss: 0.0123 - accuracy: 0.9802 - val_loss: 0.0197 - val_accuracy: 0.9683\n",
            "Epoch 5/20\n",
            "1875/1875 [==============================] - 11s 6ms/step - loss: 0.0099 - accuracy: 0.9844 - val_loss: 0.0193 - val_accuracy: 0.9706\n",
            "Epoch 6/20\n",
            "1875/1875 [==============================] - 11s 6ms/step - loss: 0.0078 - accuracy: 0.9880 - val_loss: 0.0208 - val_accuracy: 0.9707\n",
            "Epoch 7/20\n",
            "1875/1875 [==============================] - 11s 6ms/step - loss: 0.0070 - accuracy: 0.9894 - val_loss: 0.0196 - val_accuracy: 0.9723\n",
            "Epoch 8/20\n",
            "1875/1875 [==============================] - 11s 6ms/step - loss: 0.0062 - accuracy: 0.9908 - val_loss: 0.0190 - val_accuracy: 0.9739\n",
            "Epoch 9/20\n",
            "1875/1875 [==============================] - 11s 6ms/step - loss: 0.0052 - accuracy: 0.9923 - val_loss: 0.0214 - val_accuracy: 0.9721\n",
            "Epoch 10/20\n",
            "1875/1875 [==============================] - 11s 6ms/step - loss: 0.0042 - accuracy: 0.9942 - val_loss: 0.0218 - val_accuracy: 0.9726\n",
            "Epoch 11/20\n",
            "1875/1875 [==============================] - 11s 6ms/step - loss: 0.0044 - accuracy: 0.9937 - val_loss: 0.0231 - val_accuracy: 0.9731\n",
            "Epoch 12/20\n",
            "1875/1875 [==============================] - 11s 6ms/step - loss: 0.0041 - accuracy: 0.9943 - val_loss: 0.0227 - val_accuracy: 0.9759\n",
            "Epoch 13/20\n",
            "1875/1875 [==============================] - 11s 6ms/step - loss: 0.0037 - accuracy: 0.9948 - val_loss: 0.0242 - val_accuracy: 0.9724\n",
            "Epoch 14/20\n",
            "1875/1875 [==============================] - 12s 6ms/step - loss: 0.0032 - accuracy: 0.9957 - val_loss: 0.0259 - val_accuracy: 0.9735\n",
            "Epoch 15/20\n",
            "1875/1875 [==============================] - 12s 6ms/step - loss: 0.0026 - accuracy: 0.9966 - val_loss: 0.0279 - val_accuracy: 0.9726\n",
            "Epoch 16/20\n",
            "1875/1875 [==============================] - 12s 6ms/step - loss: 0.0030 - accuracy: 0.9961 - val_loss: 0.0257 - val_accuracy: 0.9743\n",
            "Epoch 17/20\n",
            "1875/1875 [==============================] - 12s 7ms/step - loss: 0.0029 - accuracy: 0.9963 - val_loss: 0.0333 - val_accuracy: 0.9710\n",
            "Epoch 18/20\n",
            "1875/1875 [==============================] - 13s 7ms/step - loss: 0.0026 - accuracy: 0.9968 - val_loss: 0.0297 - val_accuracy: 0.9723\n",
            "Epoch 19/20\n",
            "1875/1875 [==============================] - 13s 7ms/step - loss: 0.0024 - accuracy: 0.9969 - val_loss: 0.0270 - val_accuracy: 0.9744\n",
            "Epoch 20/20\n",
            "1875/1875 [==============================] - 13s 7ms/step - loss: 0.0024 - accuracy: 0.9974 - val_loss: 0.0353 - val_accuracy: 0.9695\n"
          ]
        }
      ]
    },
    {
      "cell_type": "code",
      "source": [
        "plt.plot(history.history['accuracy'])\n",
        "plt.plot(history.history['val_accuracy'])"
      ],
      "metadata": {
        "colab": {
          "base_uri": "https://localhost:8080/"
        },
        "id": "tlhGKXS7O290",
        "outputId": "8e158e50-0607-4051-fffb-7b063e268fdd"
      },
      "execution_count": null,
      "outputs": [
        {
          "output_type": "execute_result",
          "data": {
            "text/plain": [
              "[<matplotlib.lines.Line2D at 0x7f9aa6b99850>]"
            ]
          },
          "metadata": {},
          "execution_count": 14
        },
        {
          "output_type": "display_data",
          "data": {
            "image/png": "[encoded data removed]",
            "text/plain": [
              "<Figure size 432x288 with 1 Axes>"
            ]
          },
          "metadata": {
            "needs_background": "light"
          }
        }
      ]
    },
    {
      "cell_type": "code",
      "source": [
        "plt.plot(history.history['loss'])\n",
        "plt.plot(history.history['val_loss'])"
      ],
      "metadata": {
        "colab": {
          "base_uri": "https://localhost:8080/"
        },
        "id": "qWA5ygvbPIwJ",
        "outputId": "ebd519ec-d18f-4f1d-ee5e-64f95732f19e"
      },
      "execution_count": null,
      "outputs": [
        {
          "output_type": "execute_result",
          "data": {
            "text/plain": [
              "[<matplotlib.lines.Line2D at 0x7f9aa6b18490>]"
            ]
          },
          "metadata": {},
          "execution_count": 15
        },
        {
          "output_type": "display_data",
          "data": {
            "image/png": "[encoded data removed]",
            "text/plain": [
              "<Figure size 432x288 with 1 Axes>"
            ]
          },
          "metadata": {
            "needs_background": "light"
          }
        }
      ]
    },
    {
      "cell_type": "code",
      "source": [
        "score = model.evaluate(X_test, y_test)\n",
        "score"
      ],
      "metadata": {
        "colab": {
          "base_uri": "https://localhost:8080/"
        },
        "id": "0U7ss-FUPK0r",
        "outputId": "46dc7f70-ae67-4cd7-a50b-c273a52546bc"
      },
      "execution_count": null,
      "outputs": [
        {
          "output_type": "stream",
          "name": "stdout",
          "text": [
            "313/313 [==============================] - 1s 2ms/step - loss: 0.0353 - accuracy: 0.9695\n"
          ]
        },
        {
          "output_type": "execute_result",
          "data": {
            "text/plain": [
              "[0.035283878445625305, 0.9695000052452087]"
            ]
          },
          "metadata": {},
          "execution_count": 16
        }
      ]
    }
  ]
}